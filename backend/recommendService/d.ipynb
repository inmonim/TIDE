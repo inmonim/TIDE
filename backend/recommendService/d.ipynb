{
 "cells": [
  {
   "cell_type": "code",
   "execution_count": 7,
   "metadata": {},
   "outputs": [],
   "source": [
    "import pandas as pd\n",
    "from urllib.parse import quote\n",
    "from sqlalchemy import create_engine\n",
    "from sklearn.metrics.pairwise import cosine_similarity\n",
    "import numpy as np\n",
    "import random\n",
    "\n",
    "def engine_create():\n",
    "    user = 'root'\n",
    "    password = '3xlasql'\n",
    "    host = 'J8E203.p.ssafy.io'\n",
    "    port = 3306\n",
    "    database = 'music'\n",
    "\n",
    "    db_uri = f'mysql+pymysql://{user}:{password}@{host}:{port}/{database}?charset=utf8mb4'\n",
    "    engine = create_engine(db_uri, echo=True)\n",
    "\n",
    "    return engine.connect()\n",
    "\n",
    "\n",
    "def refresh_df():\n",
    "    conn = engine_create()\n",
    "    ten_emotion = pd.read_sql_table('song_ten_emotion', con=conn, index_col=0)\n",
    "    t3_emotion_keysen = pd.read_sql_table('song_emotion_keyword', con=conn, index_col=0)\n",
    "    print('[song_10emtion, song_emotion_keyword] data load')\n",
    "    return ten_emotion, t3_emotion_keysen"
   ]
  },
  {
   "cell_type": "code",
   "execution_count": 8,
   "metadata": {},
   "outputs": [
    {
     "name": "stdout",
     "output_type": "stream",
     "text": [
      "2023-04-05 10:37:06,791 INFO sqlalchemy.engine.Engine SELECT DATABASE()\n",
      "2023-04-05 10:37:06,792 INFO sqlalchemy.engine.Engine [raw sql] {}\n",
      "2023-04-05 10:37:06,815 INFO sqlalchemy.engine.Engine SELECT @@sql_mode\n",
      "2023-04-05 10:37:06,816 INFO sqlalchemy.engine.Engine [raw sql] {}\n",
      "2023-04-05 10:37:06,828 INFO sqlalchemy.engine.Engine SELECT @@lower_case_table_names\n",
      "2023-04-05 10:37:06,829 INFO sqlalchemy.engine.Engine [raw sql] {}\n",
      "2023-04-05 10:37:06,852 INFO sqlalchemy.engine.Engine BEGIN (implicit)\n",
      "2023-04-05 10:37:06,853 INFO sqlalchemy.engine.Engine DESCRIBE `music`.`song_ten_emotion`\n",
      "2023-04-05 10:37:06,854 INFO sqlalchemy.engine.Engine [raw sql] {}\n",
      "2023-04-05 10:37:06,868 INFO sqlalchemy.engine.Engine SHOW CREATE TABLE `song_ten_emotion`\n",
      "2023-04-05 10:37:06,869 INFO sqlalchemy.engine.Engine [raw sql] {}\n",
      "2023-04-05 10:37:06,884 INFO sqlalchemy.engine.Engine SELECT song_ten_emotion.id, song_ten_emotion.song_id, song_ten_emotion.anger, song_ten_emotion.malice, song_ten_emotion.sad, song_ten_emotion.despair, song_ten_emotion.panic, song_ten_emotion.worry, song_ten_emotion.complex, song_ten_emotion.scar, song_ten_emotion.love, song_ten_emotion.happy \n",
      "FROM song_ten_emotion\n",
      "2023-04-05 10:37:06,885 INFO sqlalchemy.engine.Engine [generated in 0.00091s] {}\n",
      "2023-04-05 10:37:07,249 INFO sqlalchemy.engine.Engine DESCRIBE `music`.`song_emotion_keyword`\n",
      "2023-04-05 10:37:07,250 INFO sqlalchemy.engine.Engine [raw sql] {}\n",
      "2023-04-05 10:37:07,268 INFO sqlalchemy.engine.Engine SHOW CREATE TABLE `song_emotion_keyword`\n",
      "2023-04-05 10:37:07,269 INFO sqlalchemy.engine.Engine [raw sql] {}\n",
      "2023-04-05 10:37:07,287 INFO sqlalchemy.engine.Engine SELECT song_emotion_keyword.id, song_emotion_keyword.song_id, song_emotion_keyword.emotion_1, song_emotion_keyword.emotion_2, song_emotion_keyword.emotion_3, song_emotion_keyword.key_sentence \n",
      "FROM song_emotion_keyword\n",
      "2023-04-05 10:37:07,288 INFO sqlalchemy.engine.Engine [generated in 0.00098s] {}\n",
      "[song_10emtion, song_emotion_keyword] data load\n"
     ]
    }
   ],
   "source": [
    "ten, t3 = refresh_df()"
   ]
  },
  {
   "cell_type": "code",
   "execution_count": null,
   "metadata": {},
   "outputs": [],
   "source": [
    "def recommend_cosine(df, input_emotion):\n",
    "    \n",
    "    input_array = np.array([[int(i) for i in input_emotion]])\n",
    "\n",
    "    cons = cosine_similarity(df.iloc[:, 2:12].values, input_array)\n",
    "    \n",
    "    print(cons)\n",
    "    \n",
    "    recommend_id_list = sorted(enumerate(cons), reverse=True, key=lambda x: x[1])\n",
    "    \n",
    "    recommend_id_list = [recommend_id_list[:4]]\n",
    "    \n",
    "    song_id_list = []\n",
    "    for idx in recommend_id_list:\n",
    "        song_id_list.append(df.iloc[idx[0], 1])\n",
    "        \n",
    "    return song_id_list"
   ]
  },
  {
   "cell_type": "code",
   "execution_count": 34,
   "metadata": {},
   "outputs": [],
   "source": [
    "cons = cosine_similarity(ten.iloc[:20, 2:12].values, np.array([[236,   447,  2406,  -159,   805,  -757,   779,  2115, -2863, -2795]]))"
   ]
  },
  {
   "cell_type": "code",
   "execution_count": null,
   "metadata": {},
   "outputs": [],
   "source": []
  },
  {
   "cell_type": "code",
   "execution_count": 52,
   "metadata": {},
   "outputs": [
    {
     "name": "stdout",
     "output_type": "stream",
     "text": [
      "52441\n",
      "52156\n"
     ]
    }
   ],
   "source": [
    "recommend_id_list = sorted(enumerate(cons), key= lambda x: x[1], reverse=True)[:2]\n",
    "\n",
    "for i in recommend_id_list:\n",
    "    print(ten.iloc[i[0], 1])"
   ]
  },
  {
   "cell_type": "code",
   "execution_count": 68,
   "metadata": {},
   "outputs": [
    {
     "data": {
      "text/plain": [
       "array([[-0.74919237],\n",
       "       [-0.02546029],\n",
       "       [-0.63126632],\n",
       "       [-0.64375024],\n",
       "       [ 0.19246463]])"
      ]
     },
     "execution_count": 68,
     "metadata": {},
     "output_type": "execute_result"
    }
   ],
   "source": [
    "input_emotion = [236,   447,  2406,  -159,   805,  -757,   779,  2115, -2863, -2795]\n",
    "\n",
    "input_rank = sorted(enumerate(input_emotion), key=lambda x:x[1], reverse=True)\n",
    "\n",
    "top_bottom = input_rank[0:2] + input_rank[8:]\n",
    "\n",
    "input_rank = [i[0] for i in top_bottom]\n",
    "\n",
    "input_array = np.array([[input_emotion[i] for i in input_rank]])\n",
    "\n",
    "cosine_similarity(ten.iloc[:5, input_rank].values, input_array)"
   ]
  },
  {
   "cell_type": "code",
   "execution_count": 12,
   "metadata": {},
   "outputs": [
    {
     "data": {
      "text/plain": [
       "66240"
      ]
     },
     "execution_count": 12,
     "metadata": {},
     "output_type": "execute_result"
    }
   ],
   "source": [
    "df = ten\n",
    "input_emotion = [0.236,   0.447,  2.406,  -0.159,   0.805,  -0.757,   0.779,  2.115, -2.863, -2.795]\n",
    "\n",
    "\n",
    "input_rank = sorted(enumerate(input_emotion), key=lambda x:x[1], reverse=True)\n",
    "\n",
    "top_3 = input_rank[0:3]\n",
    "bottom_2 = input_rank[8:]\n",
    "\n",
    "input_t3_rank = [i[0] for i in top_3]\n",
    "input_b2_rank = [i[0] for i in bottom_2]\n",
    "\n",
    "input_t3_array = np.array([[int(input_emotion[i]*1000) for i in input_t3_rank]])\n",
    "input_b2_array = np.array([[int(input_emotion[i]*1000) for i in input_b2_rank]])\n",
    "\n",
    "cons_t = cosine_similarity(df.iloc[:, input_t3_rank].values, input_t3_array)\n",
    "cons_b = cosine_similarity(df.iloc[:, input_b2_rank].values, input_b2_array)\n",
    "\n",
    "cons = cons_t + cons_b/5\n",
    "\n",
    "recommend_id = sorted(enumerate(cons), reverse=True, key=lambda x: x[1])[0]\n",
    "\n",
    "song_id = (df.iloc[recommend_id[0], 1])\n",
    "    \n",
    "song_id"
   ]
  },
  {
   "cell_type": "code",
   "execution_count": 38,
   "metadata": {},
   "outputs": [
    {
     "data": {
      "text/plain": [
       "-2863"
      ]
     },
     "execution_count": 38,
     "metadata": {},
     "output_type": "execute_result"
    }
   ],
   "source": [
    "int(input_emotion[input_b1_rank]*1000)"
   ]
  },
  {
   "cell_type": "code",
   "execution_count": 42,
   "metadata": {},
   "outputs": [
    {
     "data": {
      "text/plain": [
       "array([[ 779,  738, 1336, ..., -862, -235, -865]])"
      ]
     },
     "execution_count": 42,
     "metadata": {},
     "output_type": "execute_result"
    }
   ],
   "source": [
    "np.array([df.iloc[:, input_b1_rank].values])"
   ]
  },
  {
   "cell_type": "code",
   "execution_count": 37,
   "metadata": {},
   "outputs": [
    {
     "data": {
      "text/plain": [
       "array([[2406, 2115,  805]])"
      ]
     },
     "execution_count": 37,
     "metadata": {},
     "output_type": "execute_result"
    }
   ],
   "source": [
    "input_array"
   ]
  }
 ],
 "metadata": {
  "kernelspec": {
   "display_name": "tide",
   "language": "python",
   "name": "python3"
  },
  "language_info": {
   "codemirror_mode": {
    "name": "ipython",
    "version": 3
   },
   "file_extension": ".py",
   "mimetype": "text/x-python",
   "name": "python",
   "nbconvert_exporter": "python",
   "pygments_lexer": "ipython3",
   "version": "3.9.13"
  },
  "orig_nbformat": 4
 },
 "nbformat": 4,
 "nbformat_minor": 2
}

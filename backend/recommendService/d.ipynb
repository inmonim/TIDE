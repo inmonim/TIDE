{
 "cells": [
  {
   "cell_type": "code",
   "execution_count": 1,
   "metadata": {},
   "outputs": [],
   "source": [
    "\n",
    "import pandas as pd\n",
    "from urllib.parse import quote\n",
    "from sqlalchemy import create_engine\n",
    "from sklearn.metrics.pairwise import cosine_similarity\n",
    "import numpy as np\n",
    "import random\n",
    "\n",
    "def engine_create():\n",
    "    user = 'root'\n",
    "    password = '3xlasql'\n",
    "    host = 'J8E203.p.ssafy.io'\n",
    "    port = 3306\n",
    "    database = 'music'\n",
    "\n",
    "    db_uri = f'mysql+pymysql://{user}:{password}@{host}:{port}/{database}?charset=utf8mb4'\n",
    "    engine = create_engine(db_uri, echo=True)\n",
    "\n",
    "    return engine.connect()\n",
    "\n",
    "\n",
    "def refresh_df():\n",
    "    conn = engine_create()\n",
    "    ten_emotion = pd.read_sql_table('song_10emotion', con=conn, index_col=0)\n",
    "    t3_emotion_keysen = pd.read_sql_table('song_emotion_keyword', con=conn, index_col=0)\n",
    "    print('[song_10emtion, song_emotion_keyword] data load')\n",
    "    return ten_emotion, t3_emotion_keysen"
   ]
  },
  {
   "cell_type": "code",
   "execution_count": 2,
   "metadata": {},
   "outputs": [
    {
     "name": "stdout",
     "output_type": "stream",
     "text": [
      "2023-04-04 13:42:11,236 INFO sqlalchemy.engine.Engine SELECT DATABASE()\n",
      "2023-04-04 13:42:11,238 INFO sqlalchemy.engine.Engine [raw sql] {}\n",
      "2023-04-04 13:42:11,262 INFO sqlalchemy.engine.Engine SELECT @@sql_mode\n",
      "2023-04-04 13:42:11,263 INFO sqlalchemy.engine.Engine [raw sql] {}\n",
      "2023-04-04 13:42:11,278 INFO sqlalchemy.engine.Engine SELECT @@lower_case_table_names\n",
      "2023-04-04 13:42:11,279 INFO sqlalchemy.engine.Engine [raw sql] {}\n",
      "2023-04-04 13:42:11,308 INFO sqlalchemy.engine.Engine BEGIN (implicit)\n",
      "2023-04-04 13:42:11,308 INFO sqlalchemy.engine.Engine DESCRIBE `music`.`song_10emotion`\n",
      "2023-04-04 13:42:11,310 INFO sqlalchemy.engine.Engine [raw sql] {}\n",
      "2023-04-04 13:42:11,380 INFO sqlalchemy.engine.Engine SHOW CREATE TABLE `song_10emotion`\n",
      "2023-04-04 13:42:11,381 INFO sqlalchemy.engine.Engine [raw sql] {}\n",
      "2023-04-04 13:42:11,395 INFO sqlalchemy.engine.Engine SELECT song_10emotion.id, song_10emotion.song_id, song_10emotion.anger, song_10emotion.malice, song_10emotion.sad, song_10emotion.despair, song_10emotion.panic, song_10emotion.worry, song_10emotion.complex, song_10emotion.scar, song_10emotion.love, song_10emotion.happy \n",
      "FROM song_10emotion\n",
      "2023-04-04 13:42:11,396 INFO sqlalchemy.engine.Engine [generated in 0.00104s] {}\n",
      "2023-04-04 13:42:11,596 INFO sqlalchemy.engine.Engine DESCRIBE `music`.`song_emotion_keyword`\n",
      "2023-04-04 13:42:11,597 INFO sqlalchemy.engine.Engine [raw sql] {}\n",
      "2023-04-04 13:42:11,619 INFO sqlalchemy.engine.Engine SHOW CREATE TABLE `song_emotion_keyword`\n",
      "2023-04-04 13:42:11,620 INFO sqlalchemy.engine.Engine [raw sql] {}\n",
      "2023-04-04 13:42:11,649 INFO sqlalchemy.engine.Engine SELECT song_emotion_keyword.id, song_emotion_keyword.song_id, song_emotion_keyword.emotion_1, song_emotion_keyword.emotion_2, song_emotion_keyword.emotion_3, song_emotion_keyword.key_sentence \n",
      "FROM song_emotion_keyword\n",
      "2023-04-04 13:42:11,650 INFO sqlalchemy.engine.Engine [generated in 0.00093s] {}\n",
      "[song_10emtion, song_emotion_keyword] data load\n"
     ]
    }
   ],
   "source": [
    "ten, t3 = refresh_df()"
   ]
  },
  {
   "cell_type": "code",
   "execution_count": null,
   "metadata": {},
   "outputs": [],
   "source": [
    "def recommend_cosine(df, input_emotion):\n",
    "    \n",
    "    input_array = np.array([[int(i) for i in input_emotion]])\n",
    "\n",
    "    cons = cosine_similarity(df.iloc[:, 2:12].values, input_array)\n",
    "    \n",
    "    print(cons)\n",
    "    \n",
    "    recommend_id_list = sorted(enumerate(cons), reverse=True, key=lambda x: x[1])\n",
    "    \n",
    "    recommend_id_list = [recommend_id_list[:4]]\n",
    "    \n",
    "    song_id_list = []\n",
    "    for idx in recommend_id_list:\n",
    "        song_id_list.append(df.iloc[idx[0], 1])\n",
    "        \n",
    "    return song_id_list"
   ]
  },
  {
   "cell_type": "code",
   "execution_count": 34,
   "metadata": {},
   "outputs": [],
   "source": [
    "cons = cosine_similarity(ten.iloc[:20, 2:12].values, np.array([[236,   447,  2406,  -159,   805,  -757,   779,  2115, -2863, -2795]]))"
   ]
  },
  {
   "cell_type": "code",
   "execution_count": null,
   "metadata": {},
   "outputs": [],
   "source": []
  },
  {
   "cell_type": "code",
   "execution_count": 52,
   "metadata": {},
   "outputs": [
    {
     "name": "stdout",
     "output_type": "stream",
     "text": [
      "52441\n",
      "52156\n"
     ]
    }
   ],
   "source": [
    "recommend_id_list = sorted(enumerate(cons), key= lambda x: x[1], reverse=True)[:2]\n",
    "\n",
    "for i in recommend_id_list:\n",
    "    print(ten.iloc[i[0], 1])"
   ]
  },
  {
   "cell_type": "code",
   "execution_count": 68,
   "metadata": {},
   "outputs": [
    {
     "data": {
      "text/plain": [
       "array([[-0.74919237],\n",
       "       [-0.02546029],\n",
       "       [-0.63126632],\n",
       "       [-0.64375024],\n",
       "       [ 0.19246463]])"
      ]
     },
     "execution_count": 68,
     "metadata": {},
     "output_type": "execute_result"
    }
   ],
   "source": [
    "input_emotion = [236,   447,  2406,  -159,   805,  -757,   779,  2115, -2863, -2795]\n",
    "\n",
    "input_rank = sorted(enumerate(input_emotion), key=lambda x:x[1], reverse=True)\n",
    "\n",
    "top_bottom = input_rank[0:2] + input_rank[8:]\n",
    "\n",
    "input_rank = [i[0] for i in top_bottom]\n",
    "\n",
    "input_array = np.array([[input_emotion[i] for i in input_rank]])\n",
    "\n",
    "cosine_similarity(ten.iloc[:5, input_rank].values, input_array)"
   ]
  },
  {
   "cell_type": "code",
   "execution_count": 43,
   "metadata": {},
   "outputs": [
    {
     "ename": "ValueError",
     "evalue": "Incompatible dimension for X and Y matrices: X.shape[1] == 9134 while Y.shape[1] == 1",
     "output_type": "error",
     "traceback": [
      "\u001b[0;31m---------------------------------------------------------------------------\u001b[0m",
      "\u001b[0;31mValueError\u001b[0m                                Traceback (most recent call last)",
      "Cell \u001b[0;32mIn[43], line 17\u001b[0m\n\u001b[1;32m     14\u001b[0m input_b_array \u001b[39m=\u001b[39m np\u001b[39m.\u001b[39marray([[\u001b[39mint\u001b[39m(input_emotion[input_b1_rank]\u001b[39m*\u001b[39m\u001b[39m1000\u001b[39m)]])\n\u001b[1;32m     16\u001b[0m cons \u001b[39m=\u001b[39m cosine_similarity(df\u001b[39m.\u001b[39miloc[:, input_t3_rank]\u001b[39m.\u001b[39mvalues, input_t3_array)\n\u001b[0;32m---> 17\u001b[0m cons_b \u001b[39m=\u001b[39m cosine_similarity(np\u001b[39m.\u001b[39;49marray([df\u001b[39m.\u001b[39;49miloc[:, input_b1_rank]\u001b[39m.\u001b[39;49mvalues]), input_b_array)\n\u001b[1;32m     19\u001b[0m cons \u001b[39m=\u001b[39m cons_b\u001b[39m/\u001b[39m\u001b[39m5\u001b[39m\n\u001b[1;32m     21\u001b[0m recommend_id_list \u001b[39m=\u001b[39m \u001b[39msorted\u001b[39m(\u001b[39menumerate\u001b[39m(cons), reverse\u001b[39m=\u001b[39m\u001b[39mTrue\u001b[39;00m, key\u001b[39m=\u001b[39m\u001b[39mlambda\u001b[39;00m x: x[\u001b[39m1\u001b[39m])\n",
      "File \u001b[0;32m~/miniconda3/envs/tide/lib/python3.9/site-packages/sklearn/metrics/pairwise.py:1393\u001b[0m, in \u001b[0;36mcosine_similarity\u001b[0;34m(X, Y, dense_output)\u001b[0m\n\u001b[1;32m   1358\u001b[0m \u001b[39m\u001b[39m\u001b[39m\"\"\"Compute cosine similarity between samples in X and Y.\u001b[39;00m\n\u001b[1;32m   1359\u001b[0m \n\u001b[1;32m   1360\u001b[0m \u001b[39mCosine similarity, or the cosine kernel, computes similarity as the\u001b[39;00m\n\u001b[0;32m   (...)\u001b[0m\n\u001b[1;32m   1389\u001b[0m \u001b[39m    Returns the cosine similarity between samples in X and Y.\u001b[39;00m\n\u001b[1;32m   1390\u001b[0m \u001b[39m\"\"\"\u001b[39;00m\n\u001b[1;32m   1391\u001b[0m \u001b[39m# to avoid recursive import\u001b[39;00m\n\u001b[0;32m-> 1393\u001b[0m X, Y \u001b[39m=\u001b[39m check_pairwise_arrays(X, Y)\n\u001b[1;32m   1395\u001b[0m X_normalized \u001b[39m=\u001b[39m normalize(X, copy\u001b[39m=\u001b[39m\u001b[39mTrue\u001b[39;00m)\n\u001b[1;32m   1396\u001b[0m \u001b[39mif\u001b[39;00m X \u001b[39mis\u001b[39;00m Y:\n",
      "File \u001b[0;32m~/miniconda3/envs/tide/lib/python3.9/site-packages/sklearn/metrics/pairwise.py:180\u001b[0m, in \u001b[0;36mcheck_pairwise_arrays\u001b[0;34m(X, Y, precomputed, dtype, accept_sparse, force_all_finite, copy)\u001b[0m\n\u001b[1;32m    174\u001b[0m         \u001b[39mraise\u001b[39;00m \u001b[39mValueError\u001b[39;00m(\n\u001b[1;32m    175\u001b[0m             \u001b[39m\"\u001b[39m\u001b[39mPrecomputed metric requires shape \u001b[39m\u001b[39m\"\u001b[39m\n\u001b[1;32m    176\u001b[0m             \u001b[39m\"\u001b[39m\u001b[39m(n_queries, n_indexed). Got (\u001b[39m\u001b[39m%d\u001b[39;00m\u001b[39m, \u001b[39m\u001b[39m%d\u001b[39;00m\u001b[39m) \u001b[39m\u001b[39m\"\u001b[39m\n\u001b[1;32m    177\u001b[0m             \u001b[39m\"\u001b[39m\u001b[39mfor \u001b[39m\u001b[39m%d\u001b[39;00m\u001b[39m indexed.\u001b[39m\u001b[39m\"\u001b[39m \u001b[39m%\u001b[39m (X\u001b[39m.\u001b[39mshape[\u001b[39m0\u001b[39m], X\u001b[39m.\u001b[39mshape[\u001b[39m1\u001b[39m], Y\u001b[39m.\u001b[39mshape[\u001b[39m0\u001b[39m])\n\u001b[1;32m    178\u001b[0m         )\n\u001b[1;32m    179\u001b[0m \u001b[39melif\u001b[39;00m X\u001b[39m.\u001b[39mshape[\u001b[39m1\u001b[39m] \u001b[39m!=\u001b[39m Y\u001b[39m.\u001b[39mshape[\u001b[39m1\u001b[39m]:\n\u001b[0;32m--> 180\u001b[0m     \u001b[39mraise\u001b[39;00m \u001b[39mValueError\u001b[39;00m(\n\u001b[1;32m    181\u001b[0m         \u001b[39m\"\u001b[39m\u001b[39mIncompatible dimension for X and Y matrices: \u001b[39m\u001b[39m\"\u001b[39m\n\u001b[1;32m    182\u001b[0m         \u001b[39m\"\u001b[39m\u001b[39mX.shape[1] == \u001b[39m\u001b[39m%d\u001b[39;00m\u001b[39m while Y.shape[1] == \u001b[39m\u001b[39m%d\u001b[39;00m\u001b[39m\"\u001b[39m \u001b[39m%\u001b[39m (X\u001b[39m.\u001b[39mshape[\u001b[39m1\u001b[39m], Y\u001b[39m.\u001b[39mshape[\u001b[39m1\u001b[39m])\n\u001b[1;32m    183\u001b[0m     )\n\u001b[1;32m    185\u001b[0m \u001b[39mreturn\u001b[39;00m X, Y\n",
      "\u001b[0;31mValueError\u001b[0m: Incompatible dimension for X and Y matrices: X.shape[1] == 9134 while Y.shape[1] == 1"
     ]
    }
   ],
   "source": [
    "df = ten\n",
    "input_emotion = [0.236,   0.447,  2.406,  -0.159,   0.805,  -0.757,   0.779,  2.115, -2.863, -2.795]\n",
    "\n",
    "\n",
    "input_rank = sorted(enumerate(input_emotion), key=lambda x:x[1], reverse=True)\n",
    "\n",
    "top_3 = input_rank[0:3]\n",
    "bottom_2 = input_rank[8:]\n",
    "\n",
    "input_t3_rank = [i[0] for i in top_3]\n",
    "input_b2_rank = [i[0] for i in bottom_2]\n",
    "\n",
    "input_t3_array = np.array([[int(input_emotion[i]*1000) for i in input_t3_rank]])\n",
    "input_b2_array = np.array([[int(input_emotion[i]*1000) for i in input_b2_rank]])\n",
    "\n",
    "cons_t = cosine_similarity(df.iloc[:, input_t3_rank].values, input_t3_array)\n",
    "cons_b = cosine_similarity(df.iloc[:, input_b2_rank].values, input_b2_array)\n",
    "\n",
    "cons = cons_t + cons_b/5\n",
    "\n",
    "recommend_id_list = sorted(enumerate(cons), reverse=True, key=lambda x: x[1])\n",
    "\n",
    "recommend_id_list = recommend_id_list[:1]\n",
    "\n",
    "song_id_list = []\n",
    "for idx in recommend_id_list:\n",
    "    song_id_list.append(df.iloc[idx[0], 1])\n",
    "    \n",
    "song_id_list"
   ]
  },
  {
   "cell_type": "code",
   "execution_count": 38,
   "metadata": {},
   "outputs": [
    {
     "data": {
      "text/plain": [
       "-2863"
      ]
     },
     "execution_count": 38,
     "metadata": {},
     "output_type": "execute_result"
    }
   ],
   "source": [
    "int(input_emotion[input_b1_rank]*1000)"
   ]
  },
  {
   "cell_type": "code",
   "execution_count": 42,
   "metadata": {},
   "outputs": [
    {
     "data": {
      "text/plain": [
       "array([[ 779,  738, 1336, ..., -862, -235, -865]])"
      ]
     },
     "execution_count": 42,
     "metadata": {},
     "output_type": "execute_result"
    }
   ],
   "source": [
    "np.array([df.iloc[:, input_b1_rank].values])"
   ]
  },
  {
   "cell_type": "code",
   "execution_count": 37,
   "metadata": {},
   "outputs": [
    {
     "data": {
      "text/plain": [
       "array([[2406, 2115,  805]])"
      ]
     },
     "execution_count": 37,
     "metadata": {},
     "output_type": "execute_result"
    }
   ],
   "source": [
    "input_array"
   ]
  }
 ],
 "metadata": {
  "kernelspec": {
   "display_name": "tide",
   "language": "python",
   "name": "python3"
  },
  "language_info": {
   "codemirror_mode": {
    "name": "ipython",
    "version": 3
   },
   "file_extension": ".py",
   "mimetype": "text/x-python",
   "name": "python",
   "nbconvert_exporter": "python",
   "pygments_lexer": "ipython3",
   "version": "3.9.13"
  },
  "orig_nbformat": 4
 },
 "nbformat": 4,
 "nbformat_minor": 2
}

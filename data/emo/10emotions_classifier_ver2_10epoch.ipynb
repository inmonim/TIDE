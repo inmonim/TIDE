{
 "cells": [
  {
   "attachments": {},
   "cell_type": "markdown",
   "metadata": {},
   "source": [
    "!pip install git+https://git@github.com/SKTBrain/KoBERT.git@master"
   ]
  },
  {
   "cell_type": "code",
   "execution_count": 26,
   "metadata": {},
   "outputs": [],
   "source": [
    "import math\n",
    "import pandas as pd\n",
    "import torch\n",
    "from torch import nn\n",
    "from torch.utils.data import Dataset\n",
    "import gluonnlp as nlp\n",
    "import numpy as np\n",
    "from tqdm.notebook import tqdm\n",
    "from sklearn.preprocessing import StandardScaler\n",
    "from sklearn.metrics.pairwise import cosine_similarity\n",
    "\n",
    "#kobert\n",
    "from kobert.utils import get_tokenizer\n",
    "from kobert.pytorch_kobert import get_pytorch_kobert_model"
   ]
  },
  {
   "cell_type": "code",
   "execution_count": 3,
   "metadata": {},
   "outputs": [
    {
     "name": "stdout",
     "output_type": "stream",
     "text": [
      "using cached model. /home/inmo/tide/data/emo/.cache/kobert_v1.zip\n",
      "using cached model. /home/inmo/tide/data/emo/.cache/kobert_news_wiki_ko_cased-1087f8699e.spiece\n",
      "using cached model. /home/inmo/tide/data/emo/.cache/kobert_news_wiki_ko_cased-1087f8699e.spiece\n"
     ]
    }
   ],
   "source": [
    "bertmodel, vocab = get_pytorch_kobert_model()\n",
    "tokenizer = get_tokenizer()\n",
    "tok = nlp.data.BERTSPTokenizer(tokenizer, vocab, lower=False)"
   ]
  },
  {
   "cell_type": "code",
   "execution_count": 4,
   "metadata": {},
   "outputs": [],
   "source": [
    "class BERTClassifier(nn.Module): ## 클래스를 상속\n",
    "    def __init__(self,\n",
    "                 bert,\n",
    "                 hidden_size = 768,\n",
    "                 num_classes=10,   ##클래스 수 조정##\n",
    "                 dr_rate=None,\n",
    "                 params=None):\n",
    "        super(BERTClassifier, self).__init__()\n",
    "        self.bert = bert\n",
    "        self.dr_rate = dr_rate\n",
    "                 \n",
    "        self.classifier = nn.Linear(hidden_size , num_classes)\n",
    "        if dr_rate:\n",
    "            self.dropout = nn.Dropout(p=dr_rate)\n",
    "    \n",
    "    def gen_attention_mask(self, token_ids, valid_length):\n",
    "        attention_mask = torch.zeros_like(token_ids)\n",
    "        for i, v in enumerate(valid_length):\n",
    "            attention_mask[i][:v] = 1\n",
    "        return attention_mask.float()\n",
    "\n",
    "    def forward(self, token_ids, valid_length, segment_ids):\n",
    "        attention_mask = self.gen_attention_mask(token_ids, valid_length)\n",
    "        \n",
    "        _, pooler = self.bert(input_ids = token_ids, token_type_ids = segment_ids.long(), attention_mask = attention_mask.float().to(token_ids.device))\n",
    "        if self.dr_rate:\n",
    "            out = self.dropout(pooler)\n",
    "        return self.classifier(out)"
   ]
  },
  {
   "cell_type": "code",
   "execution_count": 5,
   "metadata": {},
   "outputs": [],
   "source": [
    "class BERTDataset(Dataset):\n",
    "    def __init__(self, dataset, sent_idx, label_idx, bert_tokenizer, max_len,\n",
    "                 pad, pair):\n",
    "        transform = nlp.data.BERTSentenceTransform(\n",
    "            bert_tokenizer, max_seq_length=max_len, pad=pad, pair=pair)\n",
    "\n",
    "        self.sentences = [transform([i[sent_idx]]) for i in dataset]\n",
    "        self.labels = [np.int32(i[label_idx]) for i in dataset]\n",
    "\n",
    "    def __getitem__(self, i):\n",
    "        return (self.sentences[i] + (self.labels[i], ))\n",
    "\n",
    "    def __len__(self):\n",
    "        return (len(self.labels))  "
   ]
  },
  {
   "cell_type": "code",
   "execution_count": 6,
   "metadata": {},
   "outputs": [],
   "source": [
    "max_len = 512   # 텍스트 데이터 최대 길이\n",
    "batch_size = 64"
   ]
  },
  {
   "cell_type": "code",
   "execution_count": 7,
   "metadata": {},
   "outputs": [
    {
     "data": {
      "text/plain": [
       "<All keys matched successfully>"
      ]
     },
     "execution_count": 7,
     "metadata": {},
     "output_type": "execute_result"
    }
   ],
   "source": [
    "PATH = './models/'\n",
    "model = torch.load(PATH+'10emotions_model_2_10epoch.pt', map_location='cpu')  # 전체 모델을 통째로 불러옴, 클래스 선언 필수\n",
    "model.load_state_dict(torch.load(PATH + '10emotions_model_state_dict_2_10epoch.pt', map_location='cpu'))  # state_dict를 불러 온 후, 모델에 저장"
   ]
  },
  {
   "cell_type": "code",
   "execution_count": 8,
   "metadata": {},
   "outputs": [
    {
     "name": "stdout",
     "output_type": "stream",
     "text": [
      "There are 1 GPU(s) available.\n",
      "We will use the GPU: NVIDIA GeForce GTX 1050\n"
     ]
    }
   ],
   "source": [
    "if torch.cuda.is_available():    \n",
    "    device = torch.device(\"cuda\")\n",
    "    print('There are %d GPU(s) available.' % torch.cuda.device_count())\n",
    "    print('We will use the GPU:', torch.cuda.get_device_name(0))\n",
    "else:\n",
    "    device = torch.device(\"cpu\")\n",
    "    print('No GPU available, using the CPU instead.')\n",
    "\n",
    "device = torch.device('cpu')"
   ]
  },
  {
   "cell_type": "code",
   "execution_count": 9,
   "metadata": {},
   "outputs": [],
   "source": [
    "emotion_list = ['분노', '악의', '슬픔', '절망', '당황', '불안', '열등', '상처', '사랑', '편안']"
   ]
  },
  {
   "cell_type": "code",
   "execution_count": 10,
   "metadata": {},
   "outputs": [],
   "source": [
    "def predict(predict_sentence):\n",
    "\n",
    "    data = [predict_sentence, '0']\n",
    "    dataset_another = [data]\n",
    "\n",
    "    another_test = BERTDataset(dataset_another, 0, 1, tok, 512, True, False)\n",
    "    test_dataloader = torch.utils.data.DataLoader(another_test, batch_size=batch_size, num_workers=2)\n",
    "    \n",
    "    model.eval()\n",
    "\n",
    "    for (token_ids, valid_length, segment_ids, label) in test_dataloader:\n",
    "        token_ids = token_ids.long().to(device)\n",
    "        segment_ids = segment_ids.long().to(device)\n",
    "\n",
    "        valid_length= valid_length\n",
    "        label = label.long().to(device)\n",
    "\n",
    "        out = model(token_ids, valid_length, segment_ids)\n",
    "\n",
    "        # for i, e in zip(out[0], emotion_list):\n",
    "        #     print(f'{e}: {round(float(i),4)}')\n",
    "        return out"
   ]
  },
  {
   "attachments": {},
   "cell_type": "markdown",
   "metadata": {},
   "source": [
    "emotion_list = ['분노', '악의', '슬픔', '절망', '당황', '불안', '열등', '상처', '사랑', '편안']"
   ]
  },
  {
   "cell_type": "code",
   "execution_count": null,
   "metadata": {},
   "outputs": [],
   "source": [
    "predict('우리의 믿음')"
   ]
  },
  {
   "attachments": {},
   "cell_type": "markdown",
   "metadata": {},
   "source": [
    "### 가사집 데이터 불러오기"
   ]
  },
  {
   "cell_type": "code",
   "execution_count": 64,
   "metadata": {},
   "outputs": [
    {
     "data": {
      "text/html": [
       "<div>\n",
       "<style scoped>\n",
       "    .dataframe tbody tr th:only-of-type {\n",
       "        vertical-align: middle;\n",
       "    }\n",
       "\n",
       "    .dataframe tbody tr th {\n",
       "        vertical-align: top;\n",
       "    }\n",
       "\n",
       "    .dataframe thead th {\n",
       "        text-align: right;\n",
       "    }\n",
       "</style>\n",
       "<table border=\"1\" class=\"dataframe\">\n",
       "  <thead>\n",
       "    <tr style=\"text-align: right;\">\n",
       "      <th></th>\n",
       "      <th>song_id</th>\n",
       "      <th>title</th>\n",
       "      <th>genre</th>\n",
       "      <th>lyrics</th>\n",
       "    </tr>\n",
       "  </thead>\n",
       "  <tbody>\n",
       "    <tr>\n",
       "      <th>0</th>\n",
       "      <td>52441</td>\n",
       "      <td>너에게로 또 다시</td>\n",
       "      <td>['발라드']</td>\n",
       "      <td>그 얼마나 오랜 시간을\\n 짙은 어둠에서 서성거렸나\\n 내 마음을 닫아 둔채로\\n ...</td>\n",
       "    </tr>\n",
       "    <tr>\n",
       "      <th>1</th>\n",
       "      <td>53060</td>\n",
       "      <td>솔아 솔아 푸르른 솔아</td>\n",
       "      <td>['포크/블루스']</td>\n",
       "      <td>거센 바람이 불어와서 \\n 어머님의 눈물이 \\n 가슴속에 사무쳐 우는 \\n 갈라진 ...</td>\n",
       "    </tr>\n",
       "    <tr>\n",
       "      <th>2</th>\n",
       "      <td>1017150</td>\n",
       "      <td>그 아픔까지 사랑한거야</td>\n",
       "      <td>['발라드']</td>\n",
       "      <td>너를 처음 만난 날 소리없이\\n 밤새 눈은 내리고\\n 끝도 없이 찾아드는 기다림\\n...</td>\n",
       "    </tr>\n",
       "    <tr>\n",
       "      <th>3</th>\n",
       "      <td>53018</td>\n",
       "      <td>향기로운 추억 (응답하라 1988 삽입곡)</td>\n",
       "      <td>['발라드']</td>\n",
       "      <td>한줌 젖은 바람은 \\n 이젠 희미해진 옛 추억 \\n 어느 거리로 \\n 날 데리고 가...</td>\n",
       "    </tr>\n",
       "    <tr>\n",
       "      <th>4</th>\n",
       "      <td>1859404</td>\n",
       "      <td>잊지 말아요</td>\n",
       "      <td>['성인가요/트로트']</td>\n",
       "      <td>이젠 모두 지나버린 일이야 \\n 사랑했던 그 추억 마저도 \\n 하지만 멀리서 \\n ...</td>\n",
       "    </tr>\n",
       "  </tbody>\n",
       "</table>\n",
       "</div>"
      ],
      "text/plain": [
       "   song_id                    title         genre  \\\n",
       "0    52441                너에게로 또 다시       ['발라드']   \n",
       "1    53060             솔아 솔아 푸르른 솔아    ['포크/블루스']   \n",
       "2  1017150             그 아픔까지 사랑한거야       ['발라드']   \n",
       "3    53018  향기로운 추억 (응답하라 1988 삽입곡)       ['발라드']   \n",
       "4  1859404                   잊지 말아요  ['성인가요/트로트']   \n",
       "\n",
       "                                              lyrics  \n",
       "0  그 얼마나 오랜 시간을\\n 짙은 어둠에서 서성거렸나\\n 내 마음을 닫아 둔채로\\n ...  \n",
       "1  거센 바람이 불어와서 \\n 어머님의 눈물이 \\n 가슴속에 사무쳐 우는 \\n 갈라진 ...  \n",
       "2  너를 처음 만난 날 소리없이\\n 밤새 눈은 내리고\\n 끝도 없이 찾아드는 기다림\\n...  \n",
       "3  한줌 젖은 바람은 \\n 이젠 희미해진 옛 추억 \\n 어느 거리로 \\n 날 데리고 가...  \n",
       "4  이젠 모두 지나버린 일이야 \\n 사랑했던 그 추억 마저도 \\n 하지만 멀리서 \\n ...  "
      ]
     },
     "execution_count": 64,
     "metadata": {},
     "output_type": "execute_result"
    }
   ],
   "source": [
    "from konlpy.tag import Okt, Kkma\n",
    "\n",
    "lyrics_df = pd.read_csv('../song/song_data/csv/learn_song_lyrics.csv', index_col=0)\n",
    "lyrics_df.head(5)"
   ]
  },
  {
   "cell_type": "code",
   "execution_count": 66,
   "metadata": {},
   "outputs": [
    {
     "data": {
      "text/html": [
       "<div>\n",
       "<style scoped>\n",
       "    .dataframe tbody tr th:only-of-type {\n",
       "        vertical-align: middle;\n",
       "    }\n",
       "\n",
       "    .dataframe tbody tr th {\n",
       "        vertical-align: top;\n",
       "    }\n",
       "\n",
       "    .dataframe thead th {\n",
       "        text-align: right;\n",
       "    }\n",
       "</style>\n",
       "<table border=\"1\" class=\"dataframe\">\n",
       "  <thead>\n",
       "    <tr style=\"text-align: right;\">\n",
       "      <th></th>\n",
       "      <th>song_id</th>\n",
       "      <th>title</th>\n",
       "      <th>genre</th>\n",
       "      <th>lyrics</th>\n",
       "    </tr>\n",
       "  </thead>\n",
       "  <tbody>\n",
       "    <tr>\n",
       "      <th>6412</th>\n",
       "      <td>4226135</td>\n",
       "      <td>좋아보여</td>\n",
       "      <td>['발라드', '국내드라마']</td>\n",
       "      <td>다가오는 따뜻한 \\n 온기가 가득하게 남아서 \\n 긴 여행의 끝에 \\n 집을 찾은 ...</td>\n",
       "    </tr>\n",
       "  </tbody>\n",
       "</table>\n",
       "</div>"
      ],
      "text/plain": [
       "      song_id title             genre  \\\n",
       "6412  4226135  좋아보여  ['발라드', '국내드라마']   \n",
       "\n",
       "                                                 lyrics  \n",
       "6412  다가오는 따뜻한 \\n 온기가 가득하게 남아서 \\n 긴 여행의 끝에 \\n 집을 찾은 ...  "
      ]
     },
     "execution_count": 66,
     "metadata": {},
     "output_type": "execute_result"
    }
   ],
   "source": [
    "lyrics_df[lyrics_df['song_id'] == 4226135]"
   ]
  },
  {
   "attachments": {},
   "cell_type": "markdown",
   "metadata": {},
   "source": [
    "### 문장별 리스트 및 한 줄 가사 생성"
   ]
  },
  {
   "cell_type": "code",
   "execution_count": null,
   "metadata": {},
   "outputs": [],
   "source": [
    "title = '바람이 분다'\n",
    "\n",
    "lyrics = lyrics_df[lyrics_df.title.str.contains(title)].head(1).lyrics.item()\n",
    "lyrics_list = [l for l in lyrics.split(' \\\\n ') if l != '']\n",
    "lyrics = lyrics.replace('\\\\n', '').replace('  ', ' ')\n",
    "\n",
    "len(lyrics), lyrics"
   ]
  },
  {
   "attachments": {},
   "cell_type": "markdown",
   "metadata": {},
   "source": [
    "### 전체를 돌려버리기"
   ]
  },
  {
   "cell_type": "code",
   "execution_count": null,
   "metadata": {},
   "outputs": [],
   "source": [
    "result = predict(lyrics)[0]\n",
    "for n, e in zip(emotion_list, result):\n",
    "    print(n, float(e))"
   ]
  },
  {
   "attachments": {},
   "cell_type": "markdown",
   "metadata": {},
   "source": [
    "### 형태소 분석을 통해 각 행마다의 값을 n으로 나누어 누적"
   ]
  },
  {
   "cell_type": "code",
   "execution_count": null,
   "metadata": {},
   "outputs": [],
   "source": [
    "okt = Okt()\n",
    "kkma = Kkma()"
   ]
  },
  {
   "cell_type": "code",
   "execution_count": null,
   "metadata": {},
   "outputs": [],
   "source": [
    "res = predict(lyrics)[0]\n",
    "pre_emo = [0]*10\n",
    "s_len = len(kkma.sentences(lyrics))\n",
    "for lyric in kkma.sentences(lyrics):\n",
    "    emo_tensor = predict(lyric)\n",
    "    for i in range(10):\n",
    "        x = float(emo_tensor[0][i])/s_len\n",
    "        pre_emo[i] += x\n",
    "for i in range(10):\n",
    "    res[i] -= round(pre_emo[i],4)\n",
    "\n",
    "res"
   ]
  },
  {
   "attachments": {},
   "cell_type": "markdown",
   "metadata": {},
   "source": [
    "## 노래 가사의 감정 분석 결과"
   ]
  },
  {
   "attachments": {},
   "cell_type": "markdown",
   "metadata": {},
   "source": [
    "### 임의로 점수에 가중치를 더해 상위 3개의 감정만 추출"
   ]
  },
  {
   "cell_type": "code",
   "execution_count": null,
   "metadata": {},
   "outputs": [],
   "source": [
    "def emo_rank(pre_result):\n",
    "    if pre_result[8] >= math.sqrt(sum(abs(result))/10):\n",
    "        pre_result[8] = max(float(pre_result[8] ** 2), pre_result[8])\n",
    "    if pre_result[9] >= math.sqrt(sum(abs(result))/10):\n",
    "        pre_result[9] = max(float(pre_result[9] ** 2), pre_result[9])\n",
    "        \n",
    "    for i in range(8):\n",
    "        pre_result[i] = (pre_result[i]/5)*4\n",
    "    \n",
    "    mask = sorted(enumerate(pre_result), key=lambda x:x[1], reverse=True)\n",
    "    e = []\n",
    "    tmp = []\n",
    "    for i, x in mask:\n",
    "        if len(e) >= 3:\n",
    "            break\n",
    "        if x > float(sum(abs(result))/len(result)):\n",
    "            e.append(i+1)\n",
    "        elif x >= math.sqrt(abs(sum(result)))/len(result):\n",
    "            tmp.append(i+11)\n",
    "    else:\n",
    "        while len(e) < 3:\n",
    "            if tmp:\n",
    "                e.append(tmp.pop(0))\n",
    "            else:\n",
    "                e.append(0)\n",
    "    return e"
   ]
  },
  {
   "cell_type": "code",
   "execution_count": null,
   "metadata": {},
   "outputs": [],
   "source": [
    "emo_rank_df = pd.DataFrame(columns=['song_id', 'title', '1emo','2emo','3emo'])\n",
    "\n",
    "for i in tqdm(range(len(lyrics_df))):\n",
    "    song_id = lyrics_df.loc[i, 'song_id']\n",
    "    title = lyrics_df.loc[i, 'title']\n",
    "    lyrics = lyrics_df.loc[i, 'lyrics'].replace('\\\\n', ' ')\n",
    "    pre_res = predict(lyrics)\n",
    "    e = emo_rank(pre_res[0])\n",
    "    emo_rank_df.loc[i, :] = [song_id, title, e[0], e[1], e[2]]\n",
    "\n",
    "emo_rank_df.to_csv('../song/lyrics_emotion_ver3.csv')"
   ]
  },
  {
   "attachments": {},
   "cell_type": "markdown",
   "metadata": {},
   "source": [
    "### 추출된 그대로, 소숫점 3자리까지 10개의 감정 모두 저장 (정수형으로 맞추기 위해 1000배)"
   ]
  },
  {
   "cell_type": "code",
   "execution_count": null,
   "metadata": {},
   "outputs": [],
   "source": [
    "ten_emo_rating_df = pd.DataFrame(columns=['song_id', 'anger', 'malice', 'sad', 'dspair', 'panic', 'worry', 'complex', 'scar', 'love', 'happy'])"
   ]
  },
  {
   "cell_type": "code",
   "execution_count": null,
   "metadata": {},
   "outputs": [],
   "source": [
    "for i in tqdm(range(len(lyrics_df))):\n",
    "    lyrics = lyrics_df.loc[i, 'lyrics']\n",
    "    lyrics = lyrics.replace('\\\\n', ' ').replace('  ', ' ').replace('  ', ' ')\n",
    "    data = predict(lyrics)[0]\n",
    "    \n",
    "    rating = [int(float(i)*1000) for i in data]\n",
    "    \n",
    "    ten_emo_rating_df.loc[i, :] = [lyrics_df.loc[i, 'song_id'], *rating]\n",
    "\n",
    "ten_emo_rating_df.to_csv('lyrics_10emotion_data.csv')"
   ]
  },
  {
   "attachments": {},
   "cell_type": "markdown",
   "metadata": {},
   "source": [
    "### 평균이 0이고 분산이 1인 노멀라이즈"
   ]
  },
  {
   "cell_type": "code",
   "execution_count": null,
   "metadata": {},
   "outputs": [],
   "source": [
    "scaler = StandardScaler()\n",
    "scaled_data = scaler.fit_transform(ten_emo_rating_df.iloc[:, 1:11].values)"
   ]
  },
  {
   "attachments": {},
   "cell_type": "markdown",
   "metadata": {},
   "source": [
    "### 1순위 감정값 : 절대값의 평균 이상"
   ]
  },
  {
   "cell_type": "code",
   "execution_count": null,
   "metadata": {},
   "outputs": [],
   "source": [
    "result < sum(abs(result))/10"
   ]
  },
  {
   "attachments": {},
   "cell_type": "markdown",
   "metadata": {},
   "source": [
    "### 2순위 감정값 : 절대값의 평균의 제곱근 이상"
   ]
  },
  {
   "cell_type": "code",
   "execution_count": null,
   "metadata": {},
   "outputs": [],
   "source": [
    "result[(result > math.sqrt(sum(abs(result))/10)) & (result < sum(abs(result))/10)]"
   ]
  },
  {
   "attachments": {},
   "cell_type": "markdown",
   "metadata": {},
   "source": [
    "### 10개의 감정값 테이블과 새로운 row의 코사인 유사도 측정"
   ]
  },
  {
   "cell_type": "code",
   "execution_count": 13,
   "metadata": {},
   "outputs": [],
   "source": [
    "emo = predict('나는 세상에서 프로그래밍이 제일 좋다. 싸피 최고! 취업도 성공할 수 있다!')[0]"
   ]
  },
  {
   "cell_type": "code",
   "execution_count": 20,
   "metadata": {},
   "outputs": [
    {
     "data": {
      "text/html": [
       "<div>\n",
       "<style scoped>\n",
       "    .dataframe tbody tr th:only-of-type {\n",
       "        vertical-align: middle;\n",
       "    }\n",
       "\n",
       "    .dataframe tbody tr th {\n",
       "        vertical-align: top;\n",
       "    }\n",
       "\n",
       "    .dataframe thead th {\n",
       "        text-align: right;\n",
       "    }\n",
       "</style>\n",
       "<table border=\"1\" class=\"dataframe\">\n",
       "  <thead>\n",
       "    <tr style=\"text-align: right;\">\n",
       "      <th></th>\n",
       "      <th>song_id</th>\n",
       "      <th>anger</th>\n",
       "      <th>malice</th>\n",
       "      <th>sad</th>\n",
       "      <th>dspair</th>\n",
       "      <th>panic</th>\n",
       "      <th>worry</th>\n",
       "      <th>complex</th>\n",
       "      <th>scar</th>\n",
       "      <th>love</th>\n",
       "      <th>happy</th>\n",
       "    </tr>\n",
       "  </thead>\n",
       "  <tbody>\n",
       "    <tr>\n",
       "      <th>1</th>\n",
       "      <td>52441</td>\n",
       "      <td>236</td>\n",
       "      <td>447</td>\n",
       "      <td>2406</td>\n",
       "      <td>-159</td>\n",
       "      <td>805</td>\n",
       "      <td>-757</td>\n",
       "      <td>779</td>\n",
       "      <td>2115</td>\n",
       "      <td>-2863</td>\n",
       "      <td>-2795</td>\n",
       "    </tr>\n",
       "    <tr>\n",
       "      <th>2</th>\n",
       "      <td>53060</td>\n",
       "      <td>383</td>\n",
       "      <td>-883</td>\n",
       "      <td>3310</td>\n",
       "      <td>2765</td>\n",
       "      <td>-870</td>\n",
       "      <td>820</td>\n",
       "      <td>738</td>\n",
       "      <td>250</td>\n",
       "      <td>-3326</td>\n",
       "      <td>-2907</td>\n",
       "    </tr>\n",
       "    <tr>\n",
       "      <th>3</th>\n",
       "      <td>1017150</td>\n",
       "      <td>-698</td>\n",
       "      <td>-578</td>\n",
       "      <td>4129</td>\n",
       "      <td>-622</td>\n",
       "      <td>-491</td>\n",
       "      <td>531</td>\n",
       "      <td>1336</td>\n",
       "      <td>319</td>\n",
       "      <td>-2370</td>\n",
       "      <td>-1475</td>\n",
       "    </tr>\n",
       "    <tr>\n",
       "      <th>4</th>\n",
       "      <td>53018</td>\n",
       "      <td>706</td>\n",
       "      <td>613</td>\n",
       "      <td>832</td>\n",
       "      <td>243</td>\n",
       "      <td>0</td>\n",
       "      <td>-1088</td>\n",
       "      <td>746</td>\n",
       "      <td>1648</td>\n",
       "      <td>-1625</td>\n",
       "      <td>-1937</td>\n",
       "    </tr>\n",
       "    <tr>\n",
       "      <th>5</th>\n",
       "      <td>1859404</td>\n",
       "      <td>1506</td>\n",
       "      <td>439</td>\n",
       "      <td>660</td>\n",
       "      <td>149</td>\n",
       "      <td>1102</td>\n",
       "      <td>1048</td>\n",
       "      <td>258</td>\n",
       "      <td>1070</td>\n",
       "      <td>-3256</td>\n",
       "      <td>-3154</td>\n",
       "    </tr>\n",
       "    <tr>\n",
       "      <th>...</th>\n",
       "      <td>...</td>\n",
       "      <td>...</td>\n",
       "      <td>...</td>\n",
       "      <td>...</td>\n",
       "      <td>...</td>\n",
       "      <td>...</td>\n",
       "      <td>...</td>\n",
       "      <td>...</td>\n",
       "      <td>...</td>\n",
       "      <td>...</td>\n",
       "      <td>...</td>\n",
       "    </tr>\n",
       "    <tr>\n",
       "      <th>9130</th>\n",
       "      <td>30117119</td>\n",
       "      <td>331</td>\n",
       "      <td>-925</td>\n",
       "      <td>3608</td>\n",
       "      <td>1571</td>\n",
       "      <td>297</td>\n",
       "      <td>544</td>\n",
       "      <td>406</td>\n",
       "      <td>778</td>\n",
       "      <td>-3385</td>\n",
       "      <td>-3076</td>\n",
       "    </tr>\n",
       "    <tr>\n",
       "      <th>9131</th>\n",
       "      <td>2795225</td>\n",
       "      <td>429</td>\n",
       "      <td>1466</td>\n",
       "      <td>1750</td>\n",
       "      <td>-233</td>\n",
       "      <td>1136</td>\n",
       "      <td>-827</td>\n",
       "      <td>749</td>\n",
       "      <td>1776</td>\n",
       "      <td>-2940</td>\n",
       "      <td>-2970</td>\n",
       "    </tr>\n",
       "    <tr>\n",
       "      <th>9132</th>\n",
       "      <td>469788</td>\n",
       "      <td>-293</td>\n",
       "      <td>-560</td>\n",
       "      <td>2679</td>\n",
       "      <td>-80</td>\n",
       "      <td>503</td>\n",
       "      <td>-197</td>\n",
       "      <td>-862</td>\n",
       "      <td>708</td>\n",
       "      <td>-895</td>\n",
       "      <td>-296</td>\n",
       "    </tr>\n",
       "    <tr>\n",
       "      <th>9133</th>\n",
       "      <td>8115185</td>\n",
       "      <td>964</td>\n",
       "      <td>107</td>\n",
       "      <td>488</td>\n",
       "      <td>-371</td>\n",
       "      <td>1537</td>\n",
       "      <td>741</td>\n",
       "      <td>-235</td>\n",
       "      <td>227</td>\n",
       "      <td>-2126</td>\n",
       "      <td>-1705</td>\n",
       "    </tr>\n",
       "    <tr>\n",
       "      <th>9134</th>\n",
       "      <td>4285745</td>\n",
       "      <td>1096</td>\n",
       "      <td>-462</td>\n",
       "      <td>1383</td>\n",
       "      <td>-1008</td>\n",
       "      <td>-1070</td>\n",
       "      <td>-544</td>\n",
       "      <td>-865</td>\n",
       "      <td>970</td>\n",
       "      <td>-302</td>\n",
       "      <td>558</td>\n",
       "    </tr>\n",
       "  </tbody>\n",
       "</table>\n",
       "<p>9134 rows × 11 columns</p>\n",
       "</div>"
      ],
      "text/plain": [
       "       song_id  anger  malice   sad  dspair  panic  worry  complex  scar  \\\n",
       "1        52441    236     447  2406    -159    805   -757      779  2115   \n",
       "2        53060    383    -883  3310    2765   -870    820      738   250   \n",
       "3      1017150   -698    -578  4129    -622   -491    531     1336   319   \n",
       "4        53018    706     613   832     243      0  -1088      746  1648   \n",
       "5      1859404   1506     439   660     149   1102   1048      258  1070   \n",
       "...        ...    ...     ...   ...     ...    ...    ...      ...   ...   \n",
       "9130  30117119    331    -925  3608    1571    297    544      406   778   \n",
       "9131   2795225    429    1466  1750    -233   1136   -827      749  1776   \n",
       "9132    469788   -293    -560  2679     -80    503   -197     -862   708   \n",
       "9133   8115185    964     107   488    -371   1537    741     -235   227   \n",
       "9134   4285745   1096    -462  1383   -1008  -1070   -544     -865   970   \n",
       "\n",
       "      love  happy  \n",
       "1    -2863  -2795  \n",
       "2    -3326  -2907  \n",
       "3    -2370  -1475  \n",
       "4    -1625  -1937  \n",
       "5    -3256  -3154  \n",
       "...    ...    ...  \n",
       "9130 -3385  -3076  \n",
       "9131 -2940  -2970  \n",
       "9132  -895   -296  \n",
       "9133 -2126  -1705  \n",
       "9134  -302    558  \n",
       "\n",
       "[9134 rows x 11 columns]"
      ]
     },
     "execution_count": 20,
     "metadata": {},
     "output_type": "execute_result"
    }
   ],
   "source": [
    "df = pd.read_csv('./lyrics_10emotion_data.csv', index_col=0)"
   ]
  },
  {
   "cell_type": "code",
   "execution_count": 68,
   "metadata": {},
   "outputs": [
    {
     "data": {
      "text/plain": [
       "array([[-1570, -1602, -1514, -1908,    64,  -593, -1543, -1608,  5465,\n",
       "         6042]])"
      ]
     },
     "execution_count": 68,
     "metadata": {},
     "output_type": "execute_result"
    }
   ],
   "source": [
    "emo = predict('나는 싸피가 정말 좋다. 프로그래밍도 재미있어서 정말 다행이다. 꼭 대기업에 취직해야겠다!')\n",
    "\n",
    "new_row = np.array([[int(i*1000) for i in emo.tolist()]])\n",
    "\n",
    "new_row"
   ]
  },
  {
   "cell_type": "code",
   "execution_count": 82,
   "metadata": {},
   "outputs": [],
   "source": [
    "cons = cosine_similarity(df.iloc[:, 1:11].values, new_row)"
   ]
  },
  {
   "cell_type": "code",
   "execution_count": 100,
   "metadata": {},
   "outputs": [
    {
     "data": {
      "text/plain": [
       "[(430, array([0.98401915])),\n",
       " (8027, array([0.9700552])),\n",
       " (830, array([0.96526303])),\n",
       " (8321, array([0.96158195]))]"
      ]
     },
     "execution_count": 100,
     "metadata": {},
     "output_type": "execute_result"
    }
   ],
   "source": [
    "sorted(enumerate(cons), reverse=True, key=lambda x: x[1])[:4]"
   ]
  },
  {
   "cell_type": "code",
   "execution_count": 104,
   "metadata": {},
   "outputs": [
    {
     "data": {
      "text/plain": [
       "song_id                                             31853557\n",
       "title               오늘도 빛나는 너에게 (To You My Light) (Feat.이라온)\n",
       "genre                                   ['R&B/Soul', '인디음악']\n",
       "lyrics     별빛이 내린 밤 \\n 그 풍경 속 너와 나 \\n 날 새롭게 하는 \\n 따뜻하게 만드...\n",
       "Name: 8321, dtype: object"
      ]
     },
     "execution_count": 104,
     "metadata": {},
     "output_type": "execute_result"
    },
    {
     "ename": "",
     "evalue": "",
     "output_type": "error",
     "traceback": [
      "\u001b[1;31m현재 셀 또는 이전 셀에서 코드를 실행하는 동안 Kernel이 충돌했습니다. 셀의 코드를 검토하여 오류의 가능한 원인을 식별하세요. 자세한 내용을 보려면 <a href='https://aka.ms/vscodeJupyterKernelCrash'> 여기 </a> 를 클릭하세요. 자세한 내용은 Jupyter <a href='command:jupyter.viewOutput'>로그</a>를 참조하세요."
     ]
    }
   ],
   "source": [
    "lyrics_df.iloc[8321, :]"
   ]
  },
  {
   "cell_type": "code",
   "execution_count": null,
   "metadata": {},
   "outputs": [],
   "source": []
  }
 ],
 "metadata": {
  "kernelspec": {
   "display_name": "tide",
   "language": "python",
   "name": "python3"
  },
  "language_info": {
   "codemirror_mode": {
    "name": "ipython",
    "version": 3
   },
   "file_extension": ".py",
   "mimetype": "text/x-python",
   "name": "python",
   "nbconvert_exporter": "python",
   "pygments_lexer": "ipython3",
   "version": "3.9.16"
  },
  "orig_nbformat": 4
 },
 "nbformat": 4,
 "nbformat_minor": 2
}

{
 "cells": [
  {
   "cell_type": "code",
   "execution_count": 1,
   "metadata": {},
   "outputs": [
    {
     "name": "stderr",
     "output_type": "stream",
     "text": [
      "2023-03-28 15:39:52.947785: W tensorflow/stream_executor/platform/default/dso_loader.cc:64] Could not load dynamic library 'libcudart.so.11.0'; dlerror: libcudart.so.11.0: cannot open shared object file: No such file or directory\n",
      "2023-03-28 15:39:52.947820: I tensorflow/stream_executor/cuda/cudart_stub.cc:29] Ignore above cudart dlerror if you do not have a GPU set up on your machine.\n"
     ]
    }
   ],
   "source": [
    "from keybert import KeyBERT\n",
    "from kobert.pytorch_kobert import get_pytorch_kobert_model\n",
    "\n",
    "import pandas as pd\n",
    "from tqdm.notebook import tqdm"
   ]
  },
  {
   "cell_type": "code",
   "execution_count": 5,
   "metadata": {},
   "outputs": [
    {
     "name": "stdout",
     "output_type": "stream",
     "text": [
      "using cached model. /home/inmo/tide_pjt/data/emo/.cache/kobert_v1.zip\n",
      "using cached model. /home/inmo/tide_pjt/data/emo/.cache/kobert_news_wiki_ko_cased-1087f8699e.spiece\n"
     ]
    }
   ],
   "source": [
    "bertmodel = get_pytorch_kobert_model()"
   ]
  },
  {
   "cell_type": "code",
   "execution_count": 6,
   "metadata": {},
   "outputs": [],
   "source": [
    "lyrics_df = pd.read_csv('../song/song_data/learn_song_lyrics.csv', index_col=0)"
   ]
  },
  {
   "cell_type": "code",
   "execution_count": 7,
   "metadata": {},
   "outputs": [
    {
     "data": {
      "text/plain": [
       "'너없는 지금도 눈부신 하늘과  눈부시게 웃는 사람들  나의 헤어짐을 모르는 세상은  슬프도록 그대로인데  시간마저 데려가지 못하게  나만은 널 보내지 못했나봐  가시처럼 깊게 박힌 기억은  아파도 아픈 줄 모르고  그대 기억이 지난 사랑이  내 안을 파고드는 가시가 되어  제발 가라고 아주 가라고  애써도 나를 괴롭히는데  아픈 만큼 너를 잊게 된다면  차라리 앓고 나면 그만인데  가시처럼 깊게 박힌 기억은  아파도 아픈 줄 모르고  그대 기억이 지난 사랑이  내 안을 파고드는 가시가 되어  제발 가라고 아주 가라고  애써도 나를 괴롭히는데  너무 사랑했던 나를  그게 두려웠던 나를  미치도록 너를 그리워했던  날 이제는 놓아줘  보이지 않아 내안에 숨어  잊으려하면 할 수록 더 아파와  제발 가라고 아주 가라고  애써도 나를 괴롭히는데 '"
      ]
     },
     "execution_count": 7,
     "metadata": {},
     "output_type": "execute_result"
    }
   ],
   "source": [
    "text = lyrics_df[lyrics_df.loc[:,'title'] == '가시'].head(1).lyrics.item()\n",
    "text = text.replace('\\\\n', '')\n",
    "text"
   ]
  },
  {
   "cell_type": "code",
   "execution_count": 8,
   "metadata": {},
   "outputs": [],
   "source": [
    "kw_model = KeyBERT(bertmodel)"
   ]
  },
  {
   "cell_type": "code",
   "execution_count": 9,
   "metadata": {},
   "outputs": [
    {
     "data": {
      "text/plain": [
       "[('잊으려하면 수록 아파와', 0.7477), ('잊으려하면 수록 아파와 제발', 0.7345)]"
      ]
     },
     "execution_count": 9,
     "metadata": {},
     "output_type": "execute_result"
    }
   ],
   "source": [
    "keywords = kw_model.extract_keywords(text, keyphrase_ngram_range=(1, 5), stop_words=None, top_n=2)\n",
    "keywords"
   ]
  },
  {
   "cell_type": "code",
   "execution_count": 12,
   "metadata": {},
   "outputs": [
    {
     "data": {
      "application/vnd.jupyter.widget-view+json": {
       "model_id": "323d6c60efe44e7eb41710390ce7e90c",
       "version_major": 2,
       "version_minor": 0
      },
      "text/plain": [
       "  0%|          | 0/9134 [00:00<?, ?it/s]"
      ]
     },
     "metadata": {},
     "output_type": "display_data"
    }
   ],
   "source": [
    "lyrics_keyword = pd.DataFrame(columns=['song_id', 'title', 'key_sentence'])\n",
    "\n",
    "for i in tqdm(range(len(lyrics_df))):\n",
    "    song_id = lyrics_df.loc[i, 'song_id']\n",
    "    title = lyrics_df.loc[i, 'title']\n",
    "    text = lyrics_df.loc[i, 'lyrics'].replace('\\\\n','')\n",
    "    kw = kw_model.extract_keywords(text, keyphrase_ngram_range=(1, 5), stop_words=None, top_n=3)\n",
    "    \n",
    "    lyrics_keyword.loc[i, :] = [song_id, title, kw[0][0]]\n",
    "    \n",
    "lyrics_keyword.to_csv('lyrics_keysen.csv')"
   ]
  },
  {
   "cell_type": "code",
   "execution_count": 2,
   "metadata": {},
   "outputs": [],
   "source": [
    "import pandas as pd"
   ]
  },
  {
   "cell_type": "code",
   "execution_count": 11,
   "metadata": {},
   "outputs": [],
   "source": [
    "df = pd.read_csv('lyrics_keysen.csv', index_col=0)\n",
    "\n",
    "df = df.drop(columns=['title'])\n",
    "df.index = df.index +1\n",
    "\n",
    "df.to_csv('./lyrics_keysen_notitle.csv')"
   ]
  },
  {
   "cell_type": "code",
   "execution_count": 12,
   "metadata": {},
   "outputs": [],
   "source": [
    "df = pd.read_csv('lyrics_emotion_ver3_3.csv', index_col=0)\n",
    "\n",
    "df = df.drop(columns=['title'])\n",
    "df.index = df.index +1\n",
    "df.to_csv('./lyrics_emotion_ver3_3_notitle.csv')"
   ]
  }
 ],
 "metadata": {
  "kernelspec": {
   "display_name": "tide",
   "language": "python",
   "name": "python3"
  },
  "language_info": {
   "codemirror_mode": {
    "name": "ipython",
    "version": 3
   },
   "file_extension": ".py",
   "mimetype": "text/x-python",
   "name": "python",
   "nbconvert_exporter": "python",
   "pygments_lexer": "ipython3",
   "version": "3.9.13"
  },
  "orig_nbformat": 4
 },
 "nbformat": 4,
 "nbformat_minor": 2
}

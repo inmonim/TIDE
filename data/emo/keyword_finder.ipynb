{
 "cells": [
  {
   "cell_type": "code",
   "execution_count": 1,
   "metadata": {},
   "outputs": [
    {
     "name": "stderr",
     "output_type": "stream",
     "text": [
      "2023-03-27 16:56:31.349107: W tensorflow/stream_executor/platform/default/dso_loader.cc:64] Could not load dynamic library 'libcudart.so.11.0'; dlerror: libcudart.so.11.0: cannot open shared object file: No such file or directory\n",
      "2023-03-27 16:56:31.349173: I tensorflow/stream_executor/cuda/cudart_stub.cc:29] Ignore above cudart dlerror if you do not have a GPU set up on your machine.\n",
      "2023-03-27 16:56:33.697222: I tensorflow/stream_executor/cuda/cuda_gpu_executor.cc:961] could not open file to read NUMA node: /sys/bus/pci/devices/0000:01:00.0/numa_node\n",
      "Your kernel may have been built without NUMA support.\n",
      "2023-03-27 16:56:33.697377: W tensorflow/stream_executor/platform/default/dso_loader.cc:64] Could not load dynamic library 'libcudart.so.11.0'; dlerror: libcudart.so.11.0: cannot open shared object file: No such file or directory\n",
      "2023-03-27 16:56:33.697456: W tensorflow/stream_executor/platform/default/dso_loader.cc:64] Could not load dynamic library 'libcublas.so.11'; dlerror: libcublas.so.11: cannot open shared object file: No such file or directory\n",
      "2023-03-27 16:56:33.697523: W tensorflow/stream_executor/platform/default/dso_loader.cc:64] Could not load dynamic library 'libcublasLt.so.11'; dlerror: libcublasLt.so.11: cannot open shared object file: No such file or directory\n",
      "2023-03-27 16:56:33.697587: W tensorflow/stream_executor/platform/default/dso_loader.cc:64] Could not load dynamic library 'libcufft.so.10'; dlerror: libcufft.so.10: cannot open shared object file: No such file or directory\n",
      "2023-03-27 16:56:33.697670: W tensorflow/stream_executor/platform/default/dso_loader.cc:64] Could not load dynamic library 'libcurand.so.10'; dlerror: libcurand.so.10: cannot open shared object file: No such file or directory\n",
      "2023-03-27 16:56:33.697770: W tensorflow/stream_executor/platform/default/dso_loader.cc:64] Could not load dynamic library 'libcusolver.so.11'; dlerror: libcusolver.so.11: cannot open shared object file: No such file or directory\n",
      "2023-03-27 16:56:33.697833: W tensorflow/stream_executor/platform/default/dso_loader.cc:64] Could not load dynamic library 'libcusparse.so.11'; dlerror: libcusparse.so.11: cannot open shared object file: No such file or directory\n",
      "2023-03-27 16:56:33.697895: W tensorflow/stream_executor/platform/default/dso_loader.cc:64] Could not load dynamic library 'libcudnn.so.8'; dlerror: libcudnn.so.8: cannot open shared object file: No such file or directory\n",
      "2023-03-27 16:56:33.697905: W tensorflow/core/common_runtime/gpu/gpu_device.cc:1850] Cannot dlopen some GPU libraries. Please make sure the missing libraries mentioned above are installed properly if you would like to use GPU. Follow the guide at https://www.tensorflow.org/install/gpu for how to download and setup the required libraries for your platform.\n",
      "Skipping registering GPU devices...\n",
      "2023-03-27 16:56:33.698152: I tensorflow/core/platform/cpu_feature_guard.cc:193] This TensorFlow binary is optimized with oneAPI Deep Neural Network Library (oneDNN) to use the following CPU instructions in performance-critical operations:  AVX2 FMA\n",
      "To enable them in other operations, rebuild TensorFlow with the appropriate compiler flags.\n"
     ]
    }
   ],
   "source": [
    "from keybert import KeyBERT\n",
    "from kobert.pytorch_kobert import get_pytorch_kobert_model\n",
    "from konlpy.tag import Okt\n",
    "\n",
    "import pandas as pd"
   ]
  },
  {
   "cell_type": "code",
   "execution_count": 2,
   "metadata": {},
   "outputs": [
    {
     "name": "stdout",
     "output_type": "stream",
     "text": [
      "using cached model. /home/inmo/tide/.cache/kobert_v1.zip\n",
      "using cached model. /home/inmo/tide/.cache/kobert_news_wiki_ko_cased-1087f8699e.spiece\n"
     ]
    }
   ],
   "source": [
    "bertmodel = get_pytorch_kobert_model()\n",
    "okt = Okt()\n",
    "spacing = Spacing()"
   ]
  },
  {
   "cell_type": "code",
   "execution_count": 3,
   "metadata": {},
   "outputs": [],
   "source": [
    "lyrics_df = pd.read_csv('./song_lyrics_df.csv', index_col=0)"
   ]
  },
  {
   "cell_type": "code",
   "execution_count": 4,
   "metadata": {},
   "outputs": [
    {
     "data": {
      "text/plain": [
       "'다 잊었다는 거짓말 또 해 버렸죠 내 마음에 그대란 사람 없다고 했죠 너무나 쉽게 잊혀졌다고 이젠 남이라고 서툰 내 사랑에 지쳐 떠난 그대 너무 많이 울려서 잡을 용기조차 낼 수 없었죠 미안해요 내 사랑아 다신 나 같은 사람 만나지 마요 혹시 찾아가도 두번 다시 나를 허락해 주지마요 그댄 여리고 너무 착해서 싫단 말도 잘 못하는데 많이 부족한 나를 사랑한 그대 이거면 됐어요 더 이상은 그대 불행하지 않도록 나 이쯤에서 없어지는게 그댈 위한 나의 사랑인걸요 너무 투명해서 때론 불안했죠 제멋대로 살아온 나를 감당할 수 없을것 같죠 미안해요 내 사랑아 다신 나같은 사람 만나지 마요 혹시 찾아가도 두 번 다시 나를 허락 해주지 마요 그댄 여리고 너무 착해서 싫단 말도 잘 못하는데 고마웠어요 나를 사랑해줘서 나같은 사람이 두 번 다시 감히 받을 수 없는 사랑 그대 때문에 행복했어요 울지마요 그대 잘 생각해봐요 나쁜일들만 가득했던 우리 다 잊어야 해요 많이 부족한 나를 사랑한 그대 이거면 됐어요 더 이상은 그대 불행하지 않도록 나 이쯤에서 없어지는게 그댈 위한 나의 사랑인걸요 '"
      ]
     },
     "execution_count": 4,
     "metadata": {},
     "output_type": "execute_result"
    }
   ],
   "source": [
    "text = lyrics_df[lyrics_df.title == 'Monologue'].iloc[0, 2]\n",
    "text = text.replace(' \\\\n', '').replace('  ',' ')\n",
    "text = okt.normalize(text)\n",
    "text"
   ]
  },
  {
   "cell_type": "code",
   "execution_count": 10,
   "metadata": {},
   "outputs": [],
   "source": [
    "text = lyrics_df.lyrics[9071].replace(' \\\\n', '').replace('  ',' ')\n",
    "text = okt.normalize(text)\n",
    "text = spacing(text)"
   ]
  },
  {
   "cell_type": "code",
   "execution_count": 5,
   "metadata": {},
   "outputs": [],
   "source": [
    "kw_model = KeyBERT(bertmodel)"
   ]
  },
  {
   "cell_type": "code",
   "execution_count": 37,
   "metadata": {},
   "outputs": [
    {
     "data": {
      "text/plain": [
       "'산모퉁이를 돌아 논가 외딴 우물을 홀로 찾아가선 가만히 들여다봅니다. 우물 속에는 달이 밝고 구름이 흐르고 하늘이 펼치고 파아란 바람이 불고 가을이 있습니다. 그리고 한 사나이가 있습니다. 어쩐지 그 사나이가 미워져 돌아갑니다. 돌아가다 생각하니 그 사나이가 가엾어집니다. 도로 가 들여다보니 사나이는 그대로 있습니다. 다시 그 사나이가 미워져 돌아갑니다. 돌아가다 생각하니 그 사나이가 그리워집니다. 우물 속에는 달이 밝고 구름이 흐르고 하늘이 펼치고 파아란 바람이 불고 가을이 있고 추억처럼 사나이가 있습니다.'"
      ]
     },
     "execution_count": 37,
     "metadata": {},
     "output_type": "execute_result"
    }
   ],
   "source": [
    "text = '''산모퉁이를 돌아 논가 외딴 우물을 홀로 찾아가선 가만히 들여다봅니다.\n",
    "\n",
    "우물 속에는 달이 밝고 구름이 흐르고 하늘이 펼치고 파아란 바람이 불고 가을이 있습니다.\n",
    "\n",
    "그리고 한 사나이가 있습니다.\n",
    "어쩐지 그 사나이가 미워져 돌아갑니다.\n",
    "\n",
    "돌아가다 생각하니 그 사나이가 가엾어집니다.\n",
    "도로 가 들여다보니 사나이는 그대로 있습니다.\n",
    "\n",
    "다시 그 사나이가 미워져 돌아갑니다.\n",
    "돌아가다 생각하니 그 사나이가 그리워집니다.\n",
    "\n",
    "우물 속에는 달이 밝고 구름이 흐르고 하늘이 펼치고 파아란 바람이 불고 가을이 있고 추억처럼 사나이가 있습니다.'''.replace('\\n', ' ').replace('  ', ' ')\n",
    "\n",
    "text"
   ]
  },
  {
   "cell_type": "code",
   "execution_count": 72,
   "metadata": {},
   "outputs": [
    {
     "name": "stdout",
     "output_type": "stream",
     "text": [
      "['구름']\n"
     ]
    },
    {
     "data": {
      "text/plain": [
       "[('구름이', 0.4526),\n",
       " ('돌아가다', 0.4437),\n",
       " ('돌아', 0.4359),\n",
       " ('하늘이', 0.4282),\n",
       " ('외딴', 0.4063),\n",
       " ('흐르고', 0.4052),\n",
       " ('찾아가선', 0.405),\n",
       " ('돌아갑니다', 0.4045),\n",
       " ('달이', 0.4034),\n",
       " ('다시', 0.4029)]"
      ]
     },
     "execution_count": 72,
     "metadata": {},
     "output_type": "execute_result"
    }
   ],
   "source": [
    "keywords = kw_model.extract_keywords(text, keyphrase_ngram_range=(1, 1), stop_words=None, top_n=10)\n",
    "\n",
    "print(okt.nouns(keywords[0][0]))\n",
    "keywords"
   ]
  },
  {
   "cell_type": "code",
   "execution_count": 79,
   "metadata": {},
   "outputs": [
    {
     "data": {
      "text/plain": [
       "[('구름', 'Noun'), ('이', 'Josa')]"
      ]
     },
     "execution_count": 79,
     "metadata": {},
     "output_type": "execute_result"
    }
   ],
   "source": [
    "okt.pos(keywords[0][0])"
   ]
  }
 ],
 "metadata": {
  "kernelspec": {
   "display_name": "tide",
   "language": "python",
   "name": "python3"
  },
  "language_info": {
   "codemirror_mode": {
    "name": "ipython",
    "version": 3
   },
   "file_extension": ".py",
   "mimetype": "text/x-python",
   "name": "python",
   "nbconvert_exporter": "python",
   "pygments_lexer": "ipython3",
   "version": "3.9.13"
  },
  "orig_nbformat": 4
 },
 "nbformat": 4,
 "nbformat_minor": 2
}

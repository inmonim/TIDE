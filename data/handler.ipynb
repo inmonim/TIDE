{
 "cells": [
  {
   "cell_type": "code",
   "execution_count": 95,
   "metadata": {},
   "outputs": [],
   "source": [
    "import pandas as pd\n",
    "\n",
    "song_df = pd.read_excel('./melon_song_data/song_df.xlsx', index_col=0)\n",
    "artist_df = pd.read_excel('./melon_song_data/artist_df.xlsx', index_col=0)\n",
    "album_df = pd.read_excel('./melon_song_data/album_df.xslx', index_col=0)\n",
    "song_artist_df = pd.read_excel('./melon_song_data/song_artist_df.xlsx', index_col=0)\n",
    "song_album_df = pd.read_excel('./melon_song_data/song_album_df.xlsx', index_col=0)\n",
    "song_genre_df = pd.read_excel('./melon_song_data/song_genre_df.xlsx', index_col=0)\n",
    "lyrics_df = pd.read_excel('./melon_song_data/song_lyrics_df.xlsx', index_col=0)"
   ]
  },
  {
   "attachments": {},
   "cell_type": "markdown",
   "metadata": {},
   "source": [
    "## 장르 공통코드화"
   ]
  },
  {
   "cell_type": "code",
   "execution_count": 104,
   "metadata": {},
   "outputs": [],
   "source": [
    "genre_df = pd.DataFrame(columns = ['genre_id', 'genre_name'])\n",
    "\n",
    "cnt = 101\n",
    "for genre in song_genre_df['genre_name'].unique():\n",
    "    genre_df.loc[len(genre_df)] = [cnt, genre]\n",
    "    cnt += 1\n",
    "    \n",
    "genre_df.to_excel('./melon_song_data/genre_df.xlsx')\n",
    "\n",
    "genre_dic = {}\n",
    "for i, g in zip(genre_df['genre_id'], genre_df['genre_name']):\n",
    "    genre_dic[g] = i\n",
    "genre_dic\n",
    "\n",
    "idx = 0\n",
    "for i, g in zip(song_genre_df['song_id'], song_genre_df['genre_name']):\n",
    "    song_genre_df.loc[idx] = [i, genre_dic[g]]\n",
    "    idx += 1\n",
    "\n",
    "song_genre_df.to_excel('./melon_song_data/song_genre_df.xlsx')"
   ]
  },
  {
   "cell_type": "code",
   "execution_count": null,
   "metadata": {},
   "outputs": [],
   "source": []
  },
  {
   "cell_type": "code",
   "execution_count": 135,
   "metadata": {},
   "outputs": [],
   "source": []
  },
  {
   "cell_type": "code",
   "execution_count": 137,
   "metadata": {},
   "outputs": [],
   "source": []
  },
  {
   "cell_type": "code",
   "execution_count": null,
   "metadata": {},
   "outputs": [],
   "source": []
  }
 ],
 "metadata": {
  "kernelspec": {
   "display_name": "pjt",
   "language": "python",
   "name": "python3"
  },
  "language_info": {
   "codemirror_mode": {
    "name": "ipython",
    "version": 3
   },
   "file_extension": ".py",
   "mimetype": "text/x-python",
   "name": "python",
   "nbconvert_exporter": "python",
   "pygments_lexer": "ipython3",
   "version": "3.10.9"
  },
  "orig_nbformat": 4,
  "vscode": {
   "interpreter": {
    "hash": "cff20c94d67854565eb48dfb6701358b169169fb43b6e021a1c92e5e4a9a527e"
   }
  }
 },
 "nbformat": 4,
 "nbformat_minor": 2
}

{
 "cells": [
  {
   "cell_type": "code",
   "execution_count": 1,
   "metadata": {},
   "outputs": [],
   "source": [
    "import pandas as pd\n",
    "from konlpy.tag import Okt, Kkma\n",
    "import math\n",
    "\n",
    "song_df = pd.read_excel('./melon_song_data/song_df.xlsx', index_col=0)\n",
    "artist_df = pd.read_excel('./melon_song_data/artist_df.xlsx', index_col=0)\n",
    "album_df = pd.read_excel('./melon_song_data/album_df.xlsx', index_col=0)\n",
    "song_artist_df = pd.read_excel('./melon_song_data/song_artist_df.xlsx', index_col=0)\n",
    "song_album_df = pd.read_excel('./melon_song_data/song_album_df.xlsx', index_col=0)\n",
    "song_genre_df = pd.read_excel('./melon_song_data/song_genre_df.xlsx', index_col=0)\n",
    "lyrics_df = pd.read_excel('./melon_song_data/song_lyrics_df.xlsx', index_col=0)"
   ]
  },
  {
   "attachments": {},
   "cell_type": "markdown",
   "metadata": {},
   "source": [
    "## 장르 공통코드화"
   ]
  },
  {
   "cell_type": "code",
   "execution_count": null,
   "metadata": {},
   "outputs": [],
   "source": [
    "genre_df = pd.DataFrame(columns = ['genre_id', 'genre_name'])\n",
    "\n",
    "cnt = 101\n",
    "for genre in song_genre_df['genre_name'].unique():\n",
    "    genre_df.loc[len(genre_df)] = [cnt, genre]\n",
    "    cnt += 1\n",
    "    \n",
    "genre_df.to_excel('./melon_song_data/genre_df.xlsx')\n",
    "\n",
    "genre_dic = {}\n",
    "for i, g in zip(genre_df['genre_id'], genre_df['genre_name']):\n",
    "    genre_dic[g] = i\n",
    "genre_dic\n",
    "\n",
    "idx = 0\n",
    "for i, g in zip(song_genre_df['song_id'], song_genre_df['genre_name']):\n",
    "    song_genre_df.loc[idx] = [i, genre_dic[g]]\n",
    "    idx += 1\n",
    "\n",
    "song_genre_df.to_excel('./melon_song_data/song_genre_df.xlsx')"
   ]
  },
  {
   "cell_type": "code",
   "execution_count": 41,
   "metadata": {},
   "outputs": [],
   "source": [
    "from sklearn.feature_extraction.text import TfidfVectorizer\n",
    "from sklearn.metrics.pairwise import cosine_similarity"
   ]
  },
  {
   "cell_type": "code",
   "execution_count": 42,
   "metadata": {},
   "outputs": [
    {
     "name": "stdout",
     "output_type": "stream",
     "text": [
      "TF-IDF 행렬의 크기(shape) : (1000, 31115)\n"
     ]
    }
   ],
   "source": [
    "N = 1000\n",
    "\n",
    "test_lyrics = lyrics_df.tail(N)\n",
    "\n",
    "corpus = [\n",
    "    lyric.replace('\\\\n', '') for lyric in test_lyrics.lyrics\n",
    "]\n",
    "\n",
    "tfidf = TfidfVectorizer()\n",
    "tfidf_matrix = tfidf.fit_transform(corpus)\n",
    "print('TF-IDF 행렬의 크기(shape) :',tfidf_matrix.shape)"
   ]
  },
  {
   "cell_type": "code",
   "execution_count": 56,
   "metadata": {},
   "outputs": [
    {
     "name": "stdout",
     "output_type": "stream",
     "text": [
      "코사인 유사도 연산 결과 : (1000, 1000)\n"
     ]
    },
    {
     "data": {
      "text/plain": [
       "song_id                                              1590160\n",
       "lyrics     그래 난 취했는지도 몰라 \\n 실수인지도 몰라 \\n 아침이면 까마득히 생각이 안나 ...\n",
       "Name: 9311, dtype: object"
      ]
     },
     "execution_count": 56,
     "metadata": {},
     "output_type": "execute_result"
    }
   ],
   "source": [
    "cosine_sim = cosine_similarity(tfidf_matrix, tfidf_matrix)\n",
    "print('코사인 유사도 연산 결과 :',cosine_sim.shape)"
   ]
  },
  {
   "cell_type": "code",
   "execution_count": 101,
   "metadata": {},
   "outputs": [],
   "source": [
    "sim_scores = list(enumerate(cosine_sim[1]))\n",
    "\n",
    "sim_scores.sort(key=lambda x: x[1], reverse=True)"
   ]
  },
  {
   "cell_type": "code",
   "execution_count": 97,
   "metadata": {},
   "outputs": [
    {
     "data": {
      "text/plain": [
       "[(416, 0.06912730336292858),\n",
       " (84, 0.06331002321150205),\n",
       " (252, 0.059493864213391326),\n",
       " (201, 0.05865698248234345),\n",
       " (304, 0.05387696730178479),\n",
       " (751, 0.05353797089093573),\n",
       " (367, 0.05335131049306931),\n",
       " (369, 0.052629516930423566),\n",
       " (320, 0.04757271481062243),\n",
       " (176, 0.046803793761164135)]"
      ]
     },
     "execution_count": 97,
     "metadata": {},
     "output_type": "execute_result"
    }
   ],
   "source": [
    "\n",
    "sim_scores[1: 11]"
   ]
  },
  {
   "cell_type": "code",
   "execution_count": 103,
   "metadata": {},
   "outputs": [
    {
     "data": {
      "text/plain": [
       "song_id                                             32180594\n",
       "lyrics     ELSA \\n Every inch of me is trembling \\n But n...\n",
       "Name: 8641, dtype: object"
      ]
     },
     "execution_count": 103,
     "metadata": {},
     "output_type": "execute_result"
    }
   ],
   "source": [
    "# sim_scores\n",
    "\n",
    "test_lyrics.iloc[320]"
   ]
  },
  {
   "cell_type": "code",
   "execution_count": 85,
   "metadata": {},
   "outputs": [
    {
     "data": {
      "text/plain": [
       "song_id                                             31388145\n",
       "lyrics     너를 만난 그 이후로 \\n 사소한 변화들에 행복해져 \\n 눈이 부시게 빛 나는 아침...\n",
       "Name: 8332, dtype: object"
      ]
     },
     "execution_count": 85,
     "metadata": {},
     "output_type": "execute_result"
    }
   ],
   "source": [
    "test_lyrics.iloc[11]"
   ]
  }
 ],
 "metadata": {
  "kernelspec": {
   "display_name": "pjt",
   "language": "python",
   "name": "python3"
  },
  "language_info": {
   "codemirror_mode": {
    "name": "ipython",
    "version": 3
   },
   "file_extension": ".py",
   "mimetype": "text/x-python",
   "name": "python",
   "nbconvert_exporter": "python",
   "pygments_lexer": "ipython3",
   "version": "3.10.9"
  },
  "orig_nbformat": 4,
  "vscode": {
   "interpreter": {
    "hash": "cff20c94d67854565eb48dfb6701358b169169fb43b6e021a1c92e5e4a9a527e"
   }
  }
 },
 "nbformat": 4,
 "nbformat_minor": 2
}

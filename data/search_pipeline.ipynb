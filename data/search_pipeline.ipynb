{
 "cells": [
  {
   "cell_type": "code",
   "execution_count": 5,
   "metadata": {},
   "outputs": [],
   "source": [
    "import os\n",
    "import pandas as pd\n",
    "import requests\n",
    "from bs4 import BeautifulSoup\n",
    "import time\n",
    "import random"
   ]
  },
  {
   "cell_type": "code",
   "execution_count": 2,
   "metadata": {},
   "outputs": [],
   "source": [
    "headers = {\n",
    "    'User-Agent': 'Mozilla/5.0 (Windows NT 10.0; Win64; x64) AppleWebKit/537.36 (KHTML, like Gecko) Chrome/110.0.0.0 Safari/537.36 Edg/110.0.1587.63'\n",
    "}\n",
    "\n",
    "def id_selector(txt, idx):\n",
    "    selected_id = ''\n",
    "    while True:\n",
    "        if txt[idx].isdigit():\n",
    "            selected_id += txt[idx]\n",
    "        else:\n",
    "            break\n",
    "        idx += 1\n",
    "    return int(selected_id)"
   ]
  },
  {
   "cell_type": "code",
   "execution_count": 3,
   "metadata": {},
   "outputs": [],
   "source": [
    "pd.DataFrame(columns= ['song_id', 'title']).to_excel('./melon_song_data/song_df.xlsx')\n",
    "pd.DataFrame(columns = ['song_id', 'genre_name']).to_excel('./melon_song_data/song_genre_df.xlsx')\n",
    "pd.DataFrame(columns = ['song_id', 'artist_id']).to_excel('./melon_song_data/song_artist_df.xlsx')\n",
    "pd.DataFrame(columns = ['song_id', 'album_id']).to_excel('./melon_song_data/song_album_df.xlsx')\n",
    "pd.DataFrame(columns = ['song_id', 'lyrics']).to_excel('./melon_song_data/song_lyrics_df.xlsx')\n",
    "pd.DataFrame(columns=['album_id', 'album_title', 'album_img_path', 'release_dt']).to_excel('./melon_song_data/album_df.xlsx')\n",
    "pd.DataFrame(columns=['artist_id', 'artist_name', 'artist_img_path', 'is_group']).to_excel('./melon_song_data/artist_df.xlsx')\n",
    "pd.DataFrame(columns=['group_id', 'artist_id']).to_excel('./melon_song_data/group_artist_df.xlsx')"
   ]
  },
  {
   "cell_type": "code",
   "execution_count": 6,
   "metadata": {},
   "outputs": [],
   "source": [
    "if len(os.listdir('./melon_song_data/')) == 9:\n",
    "    song_df = pd.read_excel('./melon_song_data/song_df.xlsx', index_col=0)\n",
    "    artist_df = pd.read_excel('./melon_song_data/artist_df.xlsx', index_col=0)\n",
    "    album_df = pd.read_excel('./melon_song_data/album_df.xlsx', index_col=0)\n",
    "    song_artist_df = pd.read_excel('./melon_song_data/song_artist_df.xlsx', index_col=0)\n",
    "    song_album_df = pd.read_excel('./melon_song_data/song_album_df.xlsx', index_col=0)\n",
    "    song_genre_df = pd.read_excel('./melon_song_data/song_genre_df.xlsx', index_col=0)\n",
    "    genre_df = pd.read_excel('./melon_song_data/genre_df.xlsx', index_col=0)\n",
    "    group_artist_df = pd.read_excel('./melon_song_data/group_artist_df.xlsx', index_col=0)\n",
    "    lyrics_df = pd.read_excel('./melon_song_data/song_lyrics_df.xlsx', index_col=0)\n",
    "\n",
    "else:\n",
    "    if input('누락된 파일이 있어, 새로운 파일을 생성합니다. 이전 데이터는 모두 초기화됩니다. 진행합니까? (y,n) >').upper() == 'Y':\n",
    "        pd.DataFrame(columns= ['song_id', 'title']).to_excel('./melon_song_data/song_df.xlsx')\n",
    "        pd.DataFrame(columns = ['song_id', 'genre_name']).to_excel('./melon_song_data/song_genre_df.xlsx')\n",
    "        pd.DataFrame(columns = ['song_id', 'artist_id']).to_excel('./melon_song_data/song_artist_df.xlsx')\n",
    "        pd.DataFrame(columns = ['song_id', 'album_id']).to_excel('./melon_song_data/song_album_df.xlsx')\n",
    "        pd.DataFrame(columns = ['song_id', 'lyrics']).to_excel('./melon_song_data/song_lyrics_df.xlsx')\n",
    "        pd.DataFrame(columns=['album_id', 'album_title', 'album_img_path', 'release_dt']).to_excel('./melon_song_data/album_df.xlsx')\n",
    "        pd.DataFrame(columns=['artist_id', 'artist_name', 'artist_img_path', 'is_group']).to_excel('./melon_song_data/artist_df.xlsx')\n",
    "        pd.DataFrame(columns=['group_id', 'artist_id']).to_excel('./melon_song_data/group_artist_df.xlsx')\n",
    "        song_df = pd.read_excel('./melon_song_data/song_df.xlsx', index_col=0)\n",
    "        artist_df = pd.read_excel('./melon_song_data/artist_df.xlsx', index_col=0)\n",
    "        album_df = pd.read_excel('./melon_song_data/album_df.xlsx', index_col=0)\n",
    "        song_artist_df = pd.read_excel('./melon_song_data/song_artist_df.xlsx', index_col=0)\n",
    "        song_album_df = pd.read_excel('./melon_song_data/song_album_df.xlsx', index_col=0)\n",
    "        song_genre_df = pd.read_excel('./melon_song_data/song_genre_df.xlsx', index_col=0)\n",
    "        genre_df = pd.read_excel('./melon_song_data/genre_df.xlsx', index_col=0)\n",
    "        group_artist_df = pd.read_excel('./melon_song_data/group_artist_df.xlsx', index_col=0)\n",
    "        song_lyrics_df = pd.read_excel('./melon_song_data/song_lyrics_df.xlsx', index_col=0)\n",
    "    else:\n",
    "        \"파일을 백업하세양\""
   ]
  },
  {
   "cell_type": "code",
   "execution_count": 103,
   "metadata": {},
   "outputs": [],
   "source": [
    "keyword = '띵'\n",
    "#keyword = input('노래 타이틀을 입력해주세용 >> ')\n",
    "base_url = f'https://www.melon.com/search/total/index.htm?q={keyword}'\n",
    "\n",
    "search_res_bs = BeautifulSoup(requests.get(url=base_url, headers=headers).text, 'lxml')"
   ]
  },
  {
   "cell_type": "code",
   "execution_count": 104,
   "metadata": {},
   "outputs": [
    {
     "name": "stdout",
     "output_type": "stream",
     "text": [
      "순번 | 아티스트 | 제목\n",
      "1  Jvcki Wai - 띵 (Prod. By 기리보이)\n",
      "2  브금강사 (BGM Teacher) - 머리가 띵 (My head is swollen)\n",
      "3  에이프릴 (APRIL) - 띵\n",
      "4  마블제이 (Marvel.J) - 띵 (Feat. 김효은, San E)\n",
      "5  MR MakeR (엠알메이커) - 띵 (Prod. by 기리보이)\n",
      "6  The Gill - 띵\n",
      "7  더길 - 띵\n",
      "8  Barbara Lynn - You Will Loose A Good Thing (유 윌 루즈 어 굿 띵)\n",
      "9  모두의MR - 띵 (MR)\n",
      "10  모두의MR - 띵 (Melody MR)\n"
     ]
    }
   ],
   "source": [
    "cnt = 1\n",
    "print('순번 | 아티스트 | 제목' )\n",
    "for tr in search_res_bs.select('#frm_searchSong > div > table > tbody > tr'):\n",
    "    song_title = tr.select_one('td:nth-child(3) > div > div > a.fc_gray').text\n",
    "    artist_name = tr.select_one('td:nth-child(4) > div > div > a').text\n",
    "    print(f'{cnt}  {artist_name} - {song_title}')\n",
    "    cnt += 1\n",
    "\n",
    "#idx = int(input('다음 중 번호를 입력해주세용'))-1\n",
    "idx = 0"
   ]
  },
  {
   "cell_type": "code",
   "execution_count": 107,
   "metadata": {},
   "outputs": [
    {
     "ename": "ValueError",
     "evalue": "invalid literal for int() with base 10: ''",
     "output_type": "error",
     "traceback": [
      "\u001b[1;31m---------------------------------------------------------------------------\u001b[0m",
      "\u001b[1;31mValueError\u001b[0m                                Traceback (most recent call last)",
      "Cell \u001b[1;32mIn[107], line 5\u001b[0m\n\u001b[0;32m      2\u001b[0m song_title \u001b[39m=\u001b[39m song_bs\u001b[39m.\u001b[39mselect_one(\u001b[39m'\u001b[39m\u001b[39mtd:nth-child(3) > div > div > a.fc_gray\u001b[39m\u001b[39m'\u001b[39m)\u001b[39m.\u001b[39mtext\n\u001b[0;32m      4\u001b[0m artist_href \u001b[39m=\u001b[39m song_bs\u001b[39m.\u001b[39mselect_one(\u001b[39m'\u001b[39m\u001b[39mtd:nth-child(4) > div > div > a\u001b[39m\u001b[39m'\u001b[39m)[\u001b[39m'\u001b[39m\u001b[39mhref\u001b[39m\u001b[39m'\u001b[39m]\n\u001b[1;32m----> 5\u001b[0m artist_id \u001b[39m=\u001b[39m id_selector(artist_href, artist_href\u001b[39m.\u001b[39;49mrfind(\u001b[39m'\u001b[39;49m\u001b[39m,\u001b[39;49m\u001b[39m'\u001b[39;49m)\u001b[39m+\u001b[39;49m\u001b[39m1\u001b[39;49m)\n\u001b[0;32m      7\u001b[0m song_href \u001b[39m=\u001b[39m song_bs\u001b[39m.\u001b[39mselect_one(\u001b[39m'\u001b[39m\u001b[39mtd:nth-child(3) > div > div > a.fc_gray\u001b[39m\u001b[39m'\u001b[39m)[\u001b[39m'\u001b[39m\u001b[39mhref\u001b[39m\u001b[39m'\u001b[39m]\n\u001b[0;32m      8\u001b[0m song_id \u001b[39m=\u001b[39m id_selector(song_href, song_href\u001b[39m.\u001b[39mrfind(\u001b[39m'\u001b[39m\u001b[39m,\u001b[39m\u001b[39m'\u001b[39m)\u001b[39m+\u001b[39m\u001b[39m1\u001b[39m)\n",
      "Cell \u001b[1;32mIn[59], line 9\u001b[0m, in \u001b[0;36mid_selector\u001b[1;34m(txt, idx)\u001b[0m\n\u001b[0;32m      7\u001b[0m         \u001b[39mbreak\u001b[39;00m\n\u001b[0;32m      8\u001b[0m     idx \u001b[39m+\u001b[39m\u001b[39m=\u001b[39m \u001b[39m1\u001b[39m\n\u001b[1;32m----> 9\u001b[0m \u001b[39mreturn\u001b[39;00m \u001b[39mint\u001b[39;49m(selected_id)\n",
      "\u001b[1;31mValueError\u001b[0m: invalid literal for int() with base 10: ''"
     ]
    }
   ],
   "source": [
    "song_bs = search_res_bs.select('#frm_searchSong > div > table > tbody > tr')[idx]\n",
    "song_href = song_bs.select_one('td:nth-child(3) > div > div > a.fc_gray')['href']\n",
    "song_id = id_selector(song_href, song_href.rfind(',')+1)\n",
    "\n",
    "if (song_df['song_id'] == song_id).any():\n",
    "    print('이 노래는 중복이네요. 처음으로 돌아갑니다.')\n",
    "    # break\n",
    "\n",
    "print('새로운 노래를 추가합니다', song_title)\n",
    "\n",
    "song_title = song_bs.select_one('td:nth-child(3) > div > div > a.fc_gray').text\n",
    "song_df.loc[len(song_df)] = [song_id, song_title]\n",
    "\n",
    "artist_list = []\n",
    "for art_bs in song_bs.select('td:nth-child(4) > div > div > a'):\n",
    "    art_id = id_selector(art_bs['href'], art_bs['href'].find(\"('\")+2)\n",
    "    artist_list.append(art_id)\n",
    "    song_artist_df.loc[len(song_artist_df)] = [song_id, art_id]\n",
    "\n",
    "album_href = song_bs.select_one('td:nth-child(5) > div > div > a')['href']\n",
    "album_id = id_selector(album_href, album_href.rfind(\"tail('\")+6)\n",
    "\n",
    "song_album_df.loc[len(album_df)] = [song_id, album_id]\n",
    "\n",
    "\n",
    "song_detail_bs = BeautifulSoup(requests.get(f'https://www.melon.com/song/detail.htm?songId={str(song_id)}', headers=headers).text, 'lxml')\n",
    "\n",
    "for artist_bs in song_bs.select('td:nth-child(4) > div > div > a'):\n",
    "    \n",
    "    # 아티스트 이름\n",
    "    artist_name = artist_bs['title']\n",
    "    \n",
    "    # 아티스트 ID\n",
    "    artist_id = id_selector(artist_bs['href'], artist_bs['href'].find(\"('\")+2)\n",
    "    \n",
    "    # 노래 - 아티스트 테이블 추가\n",
    "    song_artist_df.loc[len(song_artist_df)] = [song_id, art_id]\n",
    "    \n",
    "    # 테이블 내에 데이터가 이미 있는 경우 다음으로 건너가기\n",
    "    if (artist_df['artist_id'] == artist_id).any():\n",
    "        print(f'{artist_name}은 이미 있지롱')\n",
    "        continue\n",
    "    \n",
    "    # 없으면 아티스트 상세정보 크롤링\n",
    "    time.sleep(random.randint(100, 170)/100)\n",
    "    artist_detail = BeautifulSoup(requests.get(f'https://www.melon.com/artist/timeline.htm?artistId={str(artist_id)}', headers=headers).text, 'lxml')\n",
    "    \n",
    "    # 솔로든, 그룹이든 일단 대표사진 가져오기\n",
    "    artist_img_path = artist_detail.select_one('#artistImgArea > img')['src']\n",
    "    \n",
    "    if artist_detail.select_one('#conts > div.wrap_dtl_atist > div > div.wrap_atist_info > div') == None:\n",
    "        # 솔로인 경우\n",
    "        artist_df.loc[len(artist_df)] = [artist_id, artist_name, artist_img_path, 0]\n",
    "    \n",
    "    else:\n",
    "        # 그룹인 경우\n",
    "        # 그룹을 아티스트 테이블에 저장\n",
    "        artist_df.loc[len(artist_df)] = [artist_id, artist_name, artist_img_path, 1]\n",
    "        \n",
    "        # 그룹 내 아티스트를 개별적으로 추출\n",
    "        for gi in artist_detail.select_one('#conts > div.wrap_dtl_atist > div > div.wrap_atist_info > div').select('a'):\n",
    "            group_artist_id = id_selector(gi['href'], gi['href'].find('l(')+2)\n",
    "            group_artist_name = gi['title']\n",
    "            group_artist_img_path = gi.select_one('img')['src'][:gi.select_one('img')['src'].find('.jpg')+4]\n",
    "            \n",
    "            # 그룹 내 아티스트 개별 저장\n",
    "            artist_df.loc[len(artist_df)] = [group_artist_id, group_artist_name, group_artist_img_path, 0]\n",
    "                        \n",
    "            # 아티스트의 그룹 정보 저장\n",
    "            group_artist_df.loc[len(group_artist_df)] = [artist_id, group_artist_id]\n",
    "    \n",
    "    # 장르 추출\n",
    "genre = song_detail_bs.select_one('#downloadfrm > div > div > div.entry > div.meta > dl > dd:nth-child(6)')\n",
    "\n",
    "# 장르가 두 개 이상일 수 있으므로, 반점으로 스플릿하여 리스트로 반환\n",
    "if ', ' in genre.text:\n",
    "    genres = genre.text.split(', ')\n",
    "else:\n",
    "    genres = [genre.text]\n",
    "\n",
    "# 장르 정보 저장\n",
    "for g in genres:\n",
    "    song_genre_df.loc[len(song_genre_df)] = [song_id, 'ㄻㄴㅇㅇㅇㅇㅇㅇㅇㅇㅇㅇㅇㅇㅇㅇㅇㅇㅇㅇㅇㅇㅇㅇㅇㅇㅇㅇㅇㅇㅇㅇ']\n",
    "\n",
    "# 가사 내 \\n을 남기기 위해 str로 변환하여 직접 리플레이스로 줄 바꿈 적용시켜주기\n",
    "lyrics = str(song_detail_bs.select_one('#d_video_summary')).replace('<br/>', ' \\\\n ').replace('\\n</div>', '').replace('\\r','').replace('\\t','')\n",
    "\n",
    "# 가사를 가져올 수 없는 경우(19세 노래)는 None값으로 저장됨.\n",
    "if lyrics != 'None':\n",
    "    lyrics = lyrics[lyrics.index('-->')+4:]\n",
    "\n",
    "# 가사 정보 저장\n",
    "song_lyrics_df.loc[len(song_lyrics_df)] = [song_id, lyrics]\n",
    "\n",
    "# 중복 검사\n",
    "if not (album_df['album_id'] == album_id).any():\n",
    "    \n",
    "    # 앨범 제목 추출\n",
    "    album_title = song_detail_bs.select_one('#downloadfrm > div > div > div.entry > div.meta > dl > dd:nth-child(2) > a').text\n",
    "\n",
    "    # 노래나 앨범이나 릴리즈 데이트는 똑같으므로 앨범에 릴리즈 데이트 저장\n",
    "    release_dt = song_detail_bs.select_one('#downloadfrm > div > div > div.entry > div.meta > dl > dd:nth-child(4)').text\n",
    "    \n",
    "    # 앨범 커버 또한 노래와 중복되므로 앨범에 저장\n",
    "    album_img_path = song_detail_bs.select_one('#downloadfrm > div > div > div.thumb > a > img')['src']\n",
    "    album_img_path[:album_img_path.find('jpg?')+3]\n",
    "    \n",
    "    # 앨범 정보 저장\n",
    "    album_df.loc[len(album_df)] = [album_id, album_title, album_img_path, release_dt]"
   ]
  },
  {
   "cell_type": "code",
   "execution_count": 144,
   "metadata": {},
   "outputs": [
    {
     "data": {
      "text/plain": [
       "10241866"
      ]
     },
     "execution_count": 144,
     "metadata": {},
     "output_type": "execute_result"
    }
   ],
   "source": [
    "album_href = song_bs.select_one('td:nth-child(5) > div > div > a')['href']\n",
    "album_id = id_selector(album_href, album_href.rfind(\"tail('\")+6)\n",
    "\n",
    "song_album_df.loc[len(album_df)] = [song_id, album_id]"
   ]
  },
  {
   "cell_type": "code",
   "execution_count": 143,
   "metadata": {},
   "outputs": [
    {
     "data": {
      "text/plain": [
       "'1'"
      ]
     },
     "execution_count": 143,
     "metadata": {},
     "output_type": "execute_result"
    }
   ],
   "source": []
  }
 ],
 "metadata": {
  "kernelspec": {
   "display_name": "pjt",
   "language": "python",
   "name": "python3"
  },
  "language_info": {
   "codemirror_mode": {
    "name": "ipython",
    "version": 3
   },
   "file_extension": ".py",
   "mimetype": "text/x-python",
   "name": "python",
   "nbconvert_exporter": "python",
   "pygments_lexer": "ipython3",
   "version": "3.10.9"
  },
  "orig_nbformat": 4,
  "vscode": {
   "interpreter": {
    "hash": "cff20c94d67854565eb48dfb6701358b169169fb43b6e021a1c92e5e4a9a527e"
   }
  }
 },
 "nbformat": 4,
 "nbformat_minor": 2
}

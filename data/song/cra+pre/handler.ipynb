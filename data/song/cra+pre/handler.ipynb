{
 "cells": [
  {
   "attachments": {},
   "cell_type": "markdown",
   "metadata": {},
   "source": [
    "## 기존의 xlsx 파일을 csv로 변환"
   ]
  },
  {
   "attachments": {},
   "cell_type": "markdown",
   "metadata": {},
   "source": [
    "### 전처리가 필요한 이유\n",
    "\n",
    "    크롤링 과정에서 다음 가사의 html 태그와 19금 노래를 지우지 못한 채 가져온 것.\n",
    "\n",
    "    크롤러를 실 서비스에서 작동시킨다면, 이를 해결하고,\n",
    "\n",
    "    앨범 재킷과 아티스트 이미지 등을 어떻게 처리할지 생각해볼 필요가 있다."
   ]
  },
  {
   "cell_type": "code",
   "execution_count": 103,
   "metadata": {},
   "outputs": [],
   "source": [
    "import pandas as pd\n",
    "import numpy as np\n",
    "import math\n",
    "from tqdm.notebook import tqdm\n",
    "\n",
    "song_df = pd.read_excel('../song_data/song_xlsx/song_df.xlsx', index_col=0)\n",
    "artist_df = pd.read_excel('../song_data/song_xlsx/artist_df.xlsx', index_col=0)\n",
    "album_df = pd.read_excel('../song_data/song_xlsx/album_df.xlsx', index_col=0)\n",
    "song_artist_df = pd.read_excel('../song_data/song_xlsx/song_artist_df.xlsx', index_col=0)\n",
    "song_album_df = pd.read_excel('../song_data/song_xlsx/song_album_df.xlsx', index_col=0)\n",
    "song_genre_df = pd.read_excel('../song_data/song_xlsx/song_genre_df.xlsx', index_col=0)\n",
    "lyrics_df = pd.read_excel('../song_data/song_xlsx/lyrics_df.xlsx', index_col=0)"
   ]
  },
  {
   "attachments": {},
   "cell_type": "markdown",
   "metadata": {},
   "source": [
    "### 장르 테이블 (gnere_id, genre_name) 생성"
   ]
  },
  {
   "cell_type": "code",
   "execution_count": 104,
   "metadata": {},
   "outputs": [],
   "source": [
    "genre_df = pd.DataFrame(columns=['genre_id', 'genre_name'])\n",
    "\n",
    "genre_list = [\n",
    "    [101, '발라드'],\n",
    "    [102, '포크/블루스'],\n",
    "    [103, '성인가요/트로트'],\n",
    "    [104, '록/메탈'],\n",
    "    [105, '국내영화'],\n",
    "    [106, '댄스'],\n",
    "    [107, '국내드라마'],\n",
    "    [108, '뉴에이지'],\n",
    "    [109, '클래식'],\n",
    "    [110, '크로스오버'],\n",
    "    [111, '교향/관현악'],\n",
    "    [112, '랩/힙합'],\n",
    "    [113, '-'],\n",
    "    [114, '재즈'],\n",
    "    [115, '보컬재즈'],\n",
    "    [116, '인디음악'],\n",
    "    [117, 'R&B/Soul'],\n",
    "    [118, '애시드/퓨전/팝'],\n",
    "    [119, '애니메이션/웹툰'],\n",
    "    [120, 'POP'],\n",
    "    [121, '일렉트로니카'],\n",
    "    [122, 'J-POP'],\n",
    "    [123, 'CCM'],\n",
    "    [124, '국내CCM'],\n",
    "    [125, '워십'],\n",
    "    [126, '찬송가'],\n",
    "    [127, '게임'],\n",
    "    [128, '키즈'],\n",
    "    [129, '만화'],\n",
    "    [130, '국외영화'],\n",
    "    [131, '국내뮤지컬']\n",
    "]\n",
    "\n",
    "for x,y in genre_list:\n",
    "    genre_df.loc[len(genre_df)] = [x, y]\n",
    "\n",
    "genre_df.to_csv('../song_data/genre.csv', encoding='utf-8')"
   ]
  },
  {
   "attachments": {},
   "cell_type": "markdown",
   "metadata": {},
   "source": [
    "### xlsx -> csv"
   ]
  },
  {
   "attachments": {},
   "cell_type": "markdown",
   "metadata": {},
   "source": [
    "#### 메인 노래 테이블"
   ]
  },
  {
   "cell_type": "code",
   "execution_count": 132,
   "metadata": {},
   "outputs": [
    {
     "data": {
      "application/vnd.jupyter.widget-view+json": {
       "model_id": "e206323b4a7648ce9bb5f93dc92bd675",
       "version_major": 2,
       "version_minor": 0
      },
      "text/plain": [
       "  0%|          | 0/9165 [00:00<?, ?it/s]"
      ]
     },
     "metadata": {},
     "output_type": "display_data"
    },
    {
     "name": "stderr",
     "output_type": "stream",
     "text": [
      "/home/inmo/miniconda3/envs/tide/lib/python3.9/site-packages/pandas/util/_decorators.py:211: FutureWarning: the 'encoding' keyword is deprecated and will be removed in a future version. Please take steps to stop the use of 'encoding'\n",
      "  return func(*args, **kwargs)\n"
     ]
    }
   ],
   "source": [
    "song_df = song_df.drop_duplicates(['song_id']).reset_index(drop=True)\n",
    "for i in tqdm(range(len(song_df))):\n",
    "    title = song_df.loc[i, 'title']\n",
    "    # 타이틀의 , -> & 로 변환\n",
    "    song_df.loc[i, 'title'] = title.replace(',', '&')\n",
    "    # 19금 노래는 가사를 받아올 수 없으므로 nan\n",
    "    if title[:3] == '19금':\n",
    "        title = np.nan\n",
    "        song_df.loc[i, 'title'] = title\n",
    "\n",
    "# 19금 노래 제거 후 인덱스 리셋\n",
    "song_df = song_df.dropna(axis=0).reset_index(drop=True)\n",
    "\n",
    "# csv로 저장\n",
    "song_df.to_csv('../song_data/song.csv', encoding='UTF-8-SIG')\n",
    "song_df.to_excel('../song_data/song.xlsx', encoding='UTF-8')\n",
    "song_df.to_json('../song_data/song.json', index=True)"
   ]
  },
  {
   "cell_type": "code",
   "execution_count": 133,
   "metadata": {},
   "outputs": [
    {
     "name": "stderr",
     "output_type": "stream",
     "text": [
      "/home/inmo/miniconda3/envs/tide/lib/python3.9/site-packages/pandas/util/_decorators.py:211: FutureWarning: the 'encoding' keyword is deprecated and will be removed in a future version. Please take steps to stop the use of 'encoding'\n",
      "  return func(*args, **kwargs)\n"
     ]
    }
   ],
   "source": [
    "df = pd.read_csv('../song_data/song.csv', index_col=0)\n",
    "df.to_excel('../song_data/song.xlsx', encoding='utf-8-sig')\n",
    "df = pd.read_excel('../song_data/song.xlsx', index_col=0)\n",
    "df.to_csv('../song_data/song.csv', encoding='UTF-8-SIG')"
   ]
  },
  {
   "attachments": {},
   "cell_type": "markdown",
   "metadata": {},
   "source": [
    "#### 노래 - [아티스트, 앨범, 장르] 연결 테이블"
   ]
  },
  {
   "cell_type": "code",
   "execution_count": 106,
   "metadata": {},
   "outputs": [
    {
     "data": {
      "application/vnd.jupyter.widget-view+json": {
       "model_id": "901ff6f4fb7b4d7fa5c5e8341d15555f",
       "version_major": 2,
       "version_minor": 0
      },
      "text/plain": [
       "  0%|          | 0/10058 [00:00<?, ?it/s]"
      ]
     },
     "metadata": {},
     "output_type": "display_data"
    },
    {
     "data": {
      "application/vnd.jupyter.widget-view+json": {
       "model_id": "c1bd425c357840e5b2a6b67995bcbd57",
       "version_major": 2,
       "version_minor": 0
      },
      "text/plain": [
       "  0%|          | 0/10344 [00:00<?, ?it/s]"
      ]
     },
     "metadata": {},
     "output_type": "display_data"
    },
    {
     "data": {
      "application/vnd.jupyter.widget-view+json": {
       "model_id": "ee05bec75d454677a745bec76ef8d3df",
       "version_major": 2,
       "version_minor": 0
      },
      "text/plain": [
       "  0%|          | 0/9200 [00:00<?, ?it/s]"
      ]
     },
     "metadata": {},
     "output_type": "display_data"
    }
   ],
   "source": [
    "# 노래 테이블에 song_id가 없는 연결 삭제\n",
    "\n",
    "def drop_not_in_song(df, name):\n",
    "    df = df.drop_duplicates().reset_index(drop=True)\n",
    "    for i in tqdm(range(len(df))):\n",
    "        song_id = df.loc[i, 'song_id']\n",
    "        if not song_df[song_df.loc[:, 'song_id'] == song_id].song_id.any():\n",
    "            df.loc[i, 'song_id'] = np.nan\n",
    "\n",
    "    df = df.dropna(axis=0).reset_index(drop=True).astype(int)\n",
    "\n",
    "    df.to_csv(f'../song_data/{name}.csv', encoding='utf-8')\n",
    "\n",
    "drop_not_in_song(song_artist_df, 'song_artist')\n",
    "drop_not_in_song(song_genre_df, 'song_genre')\n",
    "drop_not_in_song(song_album_df, 'song_album')"
   ]
  },
  {
   "attachments": {},
   "cell_type": "markdown",
   "metadata": {},
   "source": [
    "#### 가사는 집중 처리 (가사 내부의 html태그, \\n 제거)"
   ]
  },
  {
   "cell_type": "code",
   "execution_count": 107,
   "metadata": {},
   "outputs": [
    {
     "data": {
      "application/vnd.jupyter.widget-view+json": {
       "model_id": "e163dc0c85fa4a3f8db69f757848aa87",
       "version_major": 2,
       "version_minor": 0
      },
      "text/plain": [
       "  0%|          | 0/9278 [00:00<?, ?it/s]"
      ]
     },
     "metadata": {},
     "output_type": "display_data"
    }
   ],
   "source": [
    "for i in tqdm(range(len(lyrics_df))):\n",
    "    lyrics = lyrics_df.loc[i, 'lyrics']\n",
    "    \n",
    "    while '<' in lyrics:\n",
    "        lyrics = lyrics[:lyrics.index('<')] + lyrics[lyrics.index('>')+1:]\n",
    "    \n",
    "    lyrics = lyrics.replace('\\n', '').replace('   ', ' ').replace('  ', '')\n",
    "    \n",
    "    if lyrics == 'None':\n",
    "        lyrics = np.nan\n",
    "    \n",
    "    song_id = lyrics_df.loc[i, 'song_id']\n",
    "        \n",
    "    if not song_df[song_df.loc[:, 'song_id'] == song_id].song_id.any():\n",
    "        lyrics_df.loc[i, 'song_id'] = np.nan\n",
    "        \n",
    "    lyrics_df.loc[i, 'lyrics'] = lyrics\n",
    "\n",
    "lyrics_df = lyrics_df.dropna(axis=0).reset_index(drop=True)\n",
    "lyrics_df.to_csv('../song_data/lyrics.csv', encoding='utf-8')"
   ]
  },
  {
   "attachments": {},
   "cell_type": "markdown",
   "metadata": {},
   "source": [
    "#### 앨범 테이블 처리 ( 이미지 path 수정)"
   ]
  },
  {
   "cell_type": "code",
   "execution_count": 108,
   "metadata": {},
   "outputs": [
    {
     "data": {
      "application/vnd.jupyter.widget-view+json": {
       "model_id": "f91c7fe8a3d54090a2954706ad00c46d",
       "version_major": 2,
       "version_minor": 0
      },
      "text/plain": [
       "  0%|          | 0/4170 [00:00<?, ?it/s]"
      ]
     },
     "metadata": {},
     "output_type": "display_data"
    }
   ],
   "source": [
    "album_df = album_df.drop_duplicates('album_id').reset_index(drop=True)\n",
    "for i in tqdm(range(len(album_df))):\n",
    "    \n",
    "    url = album_df.loc[i, 'album_img_path']\n",
    "    \n",
    "    idx = url.find('jpg?')\n",
    "    if idx+1:\n",
    "        idx += 3\n",
    "        url = url[:idx]\n",
    "    idx = url.find('/melon/')\n",
    "    if idx+1:\n",
    "        url = url[:idx]\n",
    "    \n",
    "    album_df.loc[i, 'album_img_path'] = url\n",
    "    \n",
    "    album_id = album_df.loc[i, 'album_id']\n",
    "    \n",
    "    if not song_album_df[song_album_df.loc[:, 'album_id'] == album_id].album_id.any():\n",
    "        album_df.loc[i, 'album_title'] = np.nan\n",
    "    \n",
    "album_df = album_df.dropna(axis=0).reset_index(drop=True)\n",
    "\n",
    "album_df.to_csv('../song_data/album.csv', encoding='utf-8')"
   ]
  },
  {
   "attachments": {},
   "cell_type": "markdown",
   "metadata": {},
   "source": [
    "#### Artist 수정"
   ]
  },
  {
   "cell_type": "code",
   "execution_count": 109,
   "metadata": {},
   "outputs": [
    {
     "data": {
      "application/vnd.jupyter.widget-view+json": {
       "model_id": "fa12710c30054b199f24b0c4c758ddae",
       "version_major": 2,
       "version_minor": 0
      },
      "text/plain": [
       "  0%|          | 0/2980 [00:00<?, ?it/s]"
      ]
     },
     "metadata": {},
     "output_type": "display_data"
    }
   ],
   "source": [
    "artist_df = artist_df.drop_duplicates('artist_id').reset_index(drop=True)\n",
    "for i in tqdm(range(len(artist_df))):\n",
    "    \n",
    "    url = artist_df.loc[i, 'artist_img_path']\n",
    "    \n",
    "    idx = url.find('jpg?')\n",
    "    if idx+1:\n",
    "        idx += 3\n",
    "        url = url[:idx]\n",
    "    idx = url.find('/melon/')\n",
    "    if idx+1:\n",
    "        url = url[:idx]\n",
    "    \n",
    "    artist_df.loc[i, 'artist_img_path'] = url\n",
    "    \n",
    "artist_df = artist_df.dropna(axis=0).reset_index(drop=True)\n",
    "\n",
    "artist_df.to_csv('../song_data/artist.csv', encoding='utf-8')"
   ]
  },
  {
   "cell_type": "code",
   "execution_count": 110,
   "metadata": {},
   "outputs": [],
   "source": [
    "group_artist_df = pd.read_excel('../song_data/song_xlsx/group_artist_df.xlsx', index_col=0)\n",
    "group_artist_df.to_csv('../song_data/group_artist.csv', encoding='utf-8')"
   ]
  },
  {
   "cell_type": "code",
   "execution_count": 125,
   "metadata": {},
   "outputs": [],
   "source": [
    "df = pd.read_csv('../song_data/song.csv', encoding='utf-8-sig', index_col=0)\n",
    "df.to_csv('../song_data/song.csv', index = False, encoding='utf-8-sig')"
   ]
  },
  {
   "attachments": {},
   "cell_type": "markdown",
   "metadata": {},
   "source": [
    "### 가사 분석용 데이터 셋 생성"
   ]
  },
  {
   "cell_type": "code",
   "execution_count": 2,
   "metadata": {},
   "outputs": [],
   "source": [
    "import pandas as pd\n",
    "from tqdm.notebook import tqdm"
   ]
  },
  {
   "cell_type": "code",
   "execution_count": 3,
   "metadata": {},
   "outputs": [],
   "source": [
    "df = pd.DataFrame(columns=['song_id', 'title', 'genre', 'lyrics'])\n",
    "\n",
    "lyrics_df = pd.read_csv('../song_data/lyrics.csv', index_col=0)\n",
    "song_df = pd.read_csv('../song_data/song.csv', index_col=0, encoding='cp949')\n",
    "song_genre_df = pd.read_csv('../song_data/song_genre.csv', index_col=0)\n",
    "genre_df = pd.read_csv('../song_data/genre.csv', index_col=0)\n"
   ]
  },
  {
   "cell_type": "code",
   "execution_count": 4,
   "metadata": {},
   "outputs": [
    {
     "data": {
      "application/vnd.jupyter.widget-view+json": {
       "model_id": "0b89e50bf93c4e29b476fdce20405f4c",
       "version_major": 2,
       "version_minor": 0
      },
      "text/plain": [
       "  0%|          | 0/9134 [00:00<?, ?it/s]"
      ]
     },
     "metadata": {},
     "output_type": "display_data"
    }
   ],
   "source": [
    "for i in tqdm(range(len(lyrics_df))):\n",
    "    song_id = lyrics_df.loc[i, 'song_id']\n",
    "    lyrics = lyrics_df.loc[i, 'lyrics']\n",
    "    title = song_df[song_df.loc[:, 'song_id'] == song_id].title.item()\n",
    "    song_genre = []\n",
    "    genre_list = [g for g in song_genre_df[song_genre_df.loc[:, 'song_id'] == song_id].genre_name]\n",
    "    for g in genre_list:\n",
    "        song_genre.append(genre_df[genre_df['genre_id'] == g].genre_name.item())\n",
    "    '&'.join(song_genre)\n",
    "    \n",
    "    df.loc[i, :] = [song_id, title, song_genre, lyrics]\n",
    "\n",
    "df.to_csv('../song_data/learn_song_lyrics.csv')"
   ]
  },
  {
   "cell_type": "code",
   "execution_count": null,
   "metadata": {},
   "outputs": [],
   "source": []
  }
 ],
 "metadata": {
  "kernelspec": {
   "display_name": "pjt",
   "language": "python",
   "name": "python3"
  },
  "language_info": {
   "codemirror_mode": {
    "name": "ipython",
    "version": 3
   },
   "file_extension": ".py",
   "mimetype": "text/x-python",
   "name": "python",
   "nbconvert_exporter": "python",
   "pygments_lexer": "ipython3",
   "version": "3.9.13"
  },
  "orig_nbformat": 4,
  "vscode": {
   "interpreter": {
    "hash": "cff20c94d67854565eb48dfb6701358b169169fb43b6e021a1c92e5e4a9a527e"
   }
  }
 },
 "nbformat": 4,
 "nbformat_minor": 2
}

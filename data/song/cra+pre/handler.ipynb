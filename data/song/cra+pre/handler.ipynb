{
 "cells": [
  {
   "attachments": {},
   "cell_type": "markdown",
   "metadata": {},
   "source": [
    "## 기존의 xlsx 파일을 csv로 변환"
   ]
  },
  {
   "attachments": {},
   "cell_type": "markdown",
   "metadata": {},
   "source": [
    "### 전처리가 필요한 이유\n",
    "\n",
    "    크롤링 과정에서 다음 가사의 html 태그와 19금 노래를 지우지 못한 채 가져온 것.\n",
    "\n",
    "    크롤러를 실 서비스에서 작동시킨다면, 이를 해결하고,\n",
    "\n",
    "    앨범 재킷과 아티스트 이미지 등을 어떻게 처리할지 생각해볼 필요가 있다."
   ]
  },
  {
   "cell_type": "code",
   "execution_count": 1,
   "metadata": {},
   "outputs": [],
   "source": [
    "import pandas as pd\n",
    "import numpy as np\n",
    "import math\n",
    "from tqdm.notebook import tqdm\n",
    "\n",
    "song_df = pd.read_excel('../song_data/song_xlsx/song_df.xlsx', index_col=0)\n",
    "artist_df = pd.read_excel('../song_data/song_xlsx/artist_df.xlsx', index_col=0)\n",
    "album_df = pd.read_excel('../song_data/song_xlsx/album_df.xlsx', index_col=0)\n",
    "song_artist_df = pd.read_excel('../song_data/song_xlsx/song_artist_df.xlsx', index_col=0)\n",
    "song_album_df = pd.read_excel('../song_data/song_xlsx/song_album_df.xlsx', index_col=0)\n",
    "song_genre_df = pd.read_excel('../song_data/song_xlsx/song_genre_df.xlsx', index_col=0)\n",
    "lyrics_df = pd.read_excel('../song_data/song_xlsx/lyrics_df.xlsx', index_col=0)"
   ]
  },
  {
   "attachments": {},
   "cell_type": "markdown",
   "metadata": {},
   "source": [
    "### 장르 테이블 (gnere_id, genre_name) 생성"
   ]
  },
  {
   "cell_type": "code",
   "execution_count": 7,
   "metadata": {},
   "outputs": [],
   "source": [
    "genre_df = pd.DataFrame(columns=['genre_id', 'genre_name'])\n",
    "\n",
    "genre_list = [\n",
    "    [101, '발라드'],\n",
    "    [102, '포크/블루스'],\n",
    "    [103, '성인가요/트로트'],\n",
    "    [104, '록/메탈'],\n",
    "    [105, '국내영화'],\n",
    "    [106, '댄스'],\n",
    "    [107, '국내드라마'],\n",
    "    [108, '뉴에이지'],\n",
    "    [109, '클래식'],\n",
    "    [110, '크로스오버'],\n",
    "    [111, '교향/관현악'],\n",
    "    [112, '랩/힙합'],\n",
    "    [113, '-'],\n",
    "    [114, '재즈'],\n",
    "    [115, '보컬재즈'],\n",
    "    [116, '인디음악'],\n",
    "    [117, 'R&B/Soul'],\n",
    "    [118, '애시드/퓨전/팝'],\n",
    "    [119, '애니메이션/웹툰'],\n",
    "    [120, 'POP'],\n",
    "    [121, '일렉트로니카'],\n",
    "    [122, 'J-POP'],\n",
    "    [123, 'CCM'],\n",
    "    [124, '국내CCM'],\n",
    "    [125, '워십'],\n",
    "    [126, '찬송가'],\n",
    "    [127, '게임'],\n",
    "    [128, '키즈'],\n",
    "    [129, '만화'],\n",
    "    [130, '국외영화'],\n",
    "    [131, '국내뮤지컬']\n",
    "]\n",
    "\n",
    "for x,y in genre_list:\n",
    "    genre_df.loc[len(genre_df)] = [x, y]\n",
    "\n",
    "genre_df.index = genre_df.index +1\n",
    "genre_df\n",
    "\n",
    "genre_df.to_csv('../song_data/genre.csv', encoding='utf-8')"
   ]
  },
  {
   "cell_type": "code",
   "execution_count": 6,
   "metadata": {},
   "outputs": [
    {
     "data": {
      "text/html": [
       "<div>\n",
       "<style scoped>\n",
       "    .dataframe tbody tr th:only-of-type {\n",
       "        vertical-align: middle;\n",
       "    }\n",
       "\n",
       "    .dataframe tbody tr th {\n",
       "        vertical-align: top;\n",
       "    }\n",
       "\n",
       "    .dataframe thead th {\n",
       "        text-align: right;\n",
       "    }\n",
       "</style>\n",
       "<table border=\"1\" class=\"dataframe\">\n",
       "  <thead>\n",
       "    <tr style=\"text-align: right;\">\n",
       "      <th></th>\n",
       "      <th>genre_id</th>\n",
       "      <th>genre_name</th>\n",
       "    </tr>\n",
       "  </thead>\n",
       "  <tbody>\n",
       "    <tr>\n",
       "      <th>2</th>\n",
       "      <td>101</td>\n",
       "      <td>발라드</td>\n",
       "    </tr>\n",
       "    <tr>\n",
       "      <th>3</th>\n",
       "      <td>102</td>\n",
       "      <td>포크/블루스</td>\n",
       "    </tr>\n",
       "    <tr>\n",
       "      <th>4</th>\n",
       "      <td>103</td>\n",
       "      <td>성인가요/트로트</td>\n",
       "    </tr>\n",
       "    <tr>\n",
       "      <th>5</th>\n",
       "      <td>104</td>\n",
       "      <td>록/메탈</td>\n",
       "    </tr>\n",
       "    <tr>\n",
       "      <th>6</th>\n",
       "      <td>105</td>\n",
       "      <td>국내영화</td>\n",
       "    </tr>\n",
       "    <tr>\n",
       "      <th>7</th>\n",
       "      <td>106</td>\n",
       "      <td>댄스</td>\n",
       "    </tr>\n",
       "    <tr>\n",
       "      <th>8</th>\n",
       "      <td>107</td>\n",
       "      <td>국내드라마</td>\n",
       "    </tr>\n",
       "    <tr>\n",
       "      <th>9</th>\n",
       "      <td>108</td>\n",
       "      <td>뉴에이지</td>\n",
       "    </tr>\n",
       "    <tr>\n",
       "      <th>10</th>\n",
       "      <td>109</td>\n",
       "      <td>클래식</td>\n",
       "    </tr>\n",
       "    <tr>\n",
       "      <th>11</th>\n",
       "      <td>110</td>\n",
       "      <td>크로스오버</td>\n",
       "    </tr>\n",
       "    <tr>\n",
       "      <th>12</th>\n",
       "      <td>111</td>\n",
       "      <td>교향/관현악</td>\n",
       "    </tr>\n",
       "    <tr>\n",
       "      <th>13</th>\n",
       "      <td>112</td>\n",
       "      <td>랩/힙합</td>\n",
       "    </tr>\n",
       "    <tr>\n",
       "      <th>14</th>\n",
       "      <td>113</td>\n",
       "      <td>-</td>\n",
       "    </tr>\n",
       "    <tr>\n",
       "      <th>15</th>\n",
       "      <td>114</td>\n",
       "      <td>재즈</td>\n",
       "    </tr>\n",
       "    <tr>\n",
       "      <th>16</th>\n",
       "      <td>115</td>\n",
       "      <td>보컬재즈</td>\n",
       "    </tr>\n",
       "    <tr>\n",
       "      <th>17</th>\n",
       "      <td>116</td>\n",
       "      <td>인디음악</td>\n",
       "    </tr>\n",
       "    <tr>\n",
       "      <th>18</th>\n",
       "      <td>117</td>\n",
       "      <td>R&amp;B/Soul</td>\n",
       "    </tr>\n",
       "    <tr>\n",
       "      <th>19</th>\n",
       "      <td>118</td>\n",
       "      <td>애시드/퓨전/팝</td>\n",
       "    </tr>\n",
       "    <tr>\n",
       "      <th>20</th>\n",
       "      <td>119</td>\n",
       "      <td>애니메이션/웹툰</td>\n",
       "    </tr>\n",
       "    <tr>\n",
       "      <th>21</th>\n",
       "      <td>120</td>\n",
       "      <td>POP</td>\n",
       "    </tr>\n",
       "    <tr>\n",
       "      <th>22</th>\n",
       "      <td>121</td>\n",
       "      <td>일렉트로니카</td>\n",
       "    </tr>\n",
       "    <tr>\n",
       "      <th>23</th>\n",
       "      <td>122</td>\n",
       "      <td>J-POP</td>\n",
       "    </tr>\n",
       "    <tr>\n",
       "      <th>24</th>\n",
       "      <td>123</td>\n",
       "      <td>CCM</td>\n",
       "    </tr>\n",
       "    <tr>\n",
       "      <th>25</th>\n",
       "      <td>124</td>\n",
       "      <td>국내CCM</td>\n",
       "    </tr>\n",
       "    <tr>\n",
       "      <th>26</th>\n",
       "      <td>125</td>\n",
       "      <td>워십</td>\n",
       "    </tr>\n",
       "    <tr>\n",
       "      <th>27</th>\n",
       "      <td>126</td>\n",
       "      <td>찬송가</td>\n",
       "    </tr>\n",
       "    <tr>\n",
       "      <th>28</th>\n",
       "      <td>127</td>\n",
       "      <td>게임</td>\n",
       "    </tr>\n",
       "    <tr>\n",
       "      <th>29</th>\n",
       "      <td>128</td>\n",
       "      <td>키즈</td>\n",
       "    </tr>\n",
       "    <tr>\n",
       "      <th>30</th>\n",
       "      <td>129</td>\n",
       "      <td>만화</td>\n",
       "    </tr>\n",
       "    <tr>\n",
       "      <th>31</th>\n",
       "      <td>130</td>\n",
       "      <td>국외영화</td>\n",
       "    </tr>\n",
       "    <tr>\n",
       "      <th>32</th>\n",
       "      <td>131</td>\n",
       "      <td>국내뮤지컬</td>\n",
       "    </tr>\n",
       "  </tbody>\n",
       "</table>\n",
       "</div>"
      ],
      "text/plain": [
       "    genre_id genre_name\n",
       "2        101        발라드\n",
       "3        102     포크/블루스\n",
       "4        103   성인가요/트로트\n",
       "5        104       록/메탈\n",
       "6        105       국내영화\n",
       "7        106         댄스\n",
       "8        107      국내드라마\n",
       "9        108       뉴에이지\n",
       "10       109        클래식\n",
       "11       110      크로스오버\n",
       "12       111     교향/관현악\n",
       "13       112       랩/힙합\n",
       "14       113          -\n",
       "15       114         재즈\n",
       "16       115       보컬재즈\n",
       "17       116       인디음악\n",
       "18       117   R&B/Soul\n",
       "19       118   애시드/퓨전/팝\n",
       "20       119   애니메이션/웹툰\n",
       "21       120        POP\n",
       "22       121     일렉트로니카\n",
       "23       122      J-POP\n",
       "24       123        CCM\n",
       "25       124      국내CCM\n",
       "26       125         워십\n",
       "27       126        찬송가\n",
       "28       127         게임\n",
       "29       128         키즈\n",
       "30       129         만화\n",
       "31       130       국외영화\n",
       "32       131      국내뮤지컬"
      ]
     },
     "execution_count": 6,
     "metadata": {},
     "output_type": "execute_result"
    }
   ],
   "source": []
  },
  {
   "attachments": {},
   "cell_type": "markdown",
   "metadata": {},
   "source": [
    "### xlsx -> csv"
   ]
  },
  {
   "attachments": {},
   "cell_type": "markdown",
   "metadata": {},
   "source": [
    "#### 메인 노래 테이블"
   ]
  },
  {
   "cell_type": "code",
   "execution_count": 8,
   "metadata": {},
   "outputs": [
    {
     "data": {
      "application/vnd.jupyter.widget-view+json": {
       "model_id": "0cb5900051f2473898613dd604790489",
       "version_major": 2,
       "version_minor": 0
      },
      "text/plain": [
       "  0%|          | 0/9278 [00:00<?, ?it/s]"
      ]
     },
     "metadata": {},
     "output_type": "display_data"
    }
   ],
   "source": [
    "song_df = song_df.drop_duplicates(['song_id']).reset_index(drop=True)\n",
    "for i in tqdm(range(len(song_df))):\n",
    "    title = song_df.loc[i, 'title']\n",
    "    # 타이틀의 , -> & 로 변환\n",
    "    song_df.loc[i, 'title'] = title.replace(',', '&')\n",
    "    # 19금 노래는 가사를 받아올 수 없으므로 nan\n",
    "    if title[:3] == '19금':\n",
    "        title = np.nan\n",
    "        song_df.loc[i, 'title'] = title\n",
    "\n",
    "# 19금 노래 제거 후 인덱스 리셋\n",
    "song_df = song_df.dropna(axis=0).reset_index(drop=True)\n",
    "song_df.index += 1\n",
    "\n",
    "# csv로 저장\n",
    "song_df.to_csv('../song_data/song.csv', encoding='UTF-8-SIG')"
   ]
  },
  {
   "attachments": {},
   "cell_type": "markdown",
   "metadata": {},
   "source": [
    "#### 노래 - [아티스트, 앨범, 장르] 연결 테이블"
   ]
  },
  {
   "cell_type": "code",
   "execution_count": 5,
   "metadata": {},
   "outputs": [
    {
     "data": {
      "application/vnd.jupyter.widget-view+json": {
       "model_id": "f3bfc8d4e729400db52dadeb3b6cf8d7",
       "version_major": 2,
       "version_minor": 0
      },
      "text/plain": [
       "  0%|          | 0/9200 [00:00<?, ?it/s]"
      ]
     },
     "metadata": {},
     "output_type": "display_data"
    }
   ],
   "source": [
    "# 노래 테이블에 song_id가 없는 연결 삭제\n",
    "\n",
    "def drop_not_in_song(df, name):\n",
    "    df = df.drop_duplicates().reset_index(drop=True)\n",
    "    for i in tqdm(range(len(df))):\n",
    "        song_id = df.loc[i, 'song_id']\n",
    "        if not song_df[song_df.loc[:, 'song_id'] == song_id].song_id.any():\n",
    "            df.loc[i, 'song_id'] = np.nan\n",
    "\n",
    "    df = df.dropna(axis=0).reset_index(drop=True).astype(int)\n",
    "    df.index += 1\n",
    "\n",
    "    df.to_csv(f'../song_data/{name}.csv', encoding='utf-8-sig')\n",
    "\n",
    "drop_not_in_song(song_artist_df, 'song_artist')\n",
    "drop_not_in_song(song_genre_df, 'song_genre')\n",
    "drop_not_in_song(song_album_df, 'song_album')"
   ]
  },
  {
   "attachments": {},
   "cell_type": "markdown",
   "metadata": {},
   "source": [
    "#### 가사는 집중 처리 (가사 내부의 html태그, \\n 제거)"
   ]
  },
  {
   "cell_type": "code",
   "execution_count": 10,
   "metadata": {},
   "outputs": [
    {
     "data": {
      "application/vnd.jupyter.widget-view+json": {
       "model_id": "c154288eca79400a81b4d714e7f5a56d",
       "version_major": 2,
       "version_minor": 0
      },
      "text/plain": [
       "  0%|          | 0/9278 [00:00<?, ?it/s]"
      ]
     },
     "metadata": {},
     "output_type": "display_data"
    }
   ],
   "source": [
    "for i in tqdm(range(len(lyrics_df))):\n",
    "    lyrics = lyrics_df.loc[i, 'lyrics']\n",
    "    \n",
    "    while '<' in lyrics:\n",
    "        lyrics = lyrics[:lyrics.index('<')] + lyrics[lyrics.index('>')+1:]\n",
    "    \n",
    "    lyrics = lyrics.replace('\\n', '').replace('   ', ' ').replace('  ', '')\n",
    "    \n",
    "    if lyrics == 'None':\n",
    "        lyrics = np.nan\n",
    "    \n",
    "    song_id = lyrics_df.loc[i, 'song_id']\n",
    "        \n",
    "    if not song_df[song_df.loc[:, 'song_id'] == song_id].song_id.any():\n",
    "        lyrics_df.loc[i, 'song_id'] = np.nan\n",
    "        \n",
    "    lyrics_df.loc[i, 'lyrics'] = lyrics\n",
    "\n",
    "lyrics_df = lyrics_df.dropna(axis=0).reset_index(drop=True)\n",
    "lyrics_df.index += 1\n",
    "lyrics_df.to_csv('../song_data/lyrics.csv', encoding='utf-8')"
   ]
  },
  {
   "attachments": {},
   "cell_type": "markdown",
   "metadata": {},
   "source": [
    "#### 앨범 테이블 처리 ( 이미지 path 수정)"
   ]
  },
  {
   "cell_type": "code",
   "execution_count": 6,
   "metadata": {},
   "outputs": [
    {
     "data": {
      "application/vnd.jupyter.widget-view+json": {
       "model_id": "579e43f4459a467f83d22894fa2d3dff",
       "version_major": 2,
       "version_minor": 0
      },
      "text/plain": [
       "  0%|          | 0/4170 [00:00<?, ?it/s]"
      ]
     },
     "metadata": {},
     "output_type": "display_data"
    }
   ],
   "source": [
    "album_df = album_df.drop_duplicates('album_id').reset_index(drop=True)\n",
    "for i in tqdm(range(len(album_df))):\n",
    "    \n",
    "    url = album_df.loc[i, 'album_img_path']\n",
    "    \n",
    "    idx = url.find('jpg?')\n",
    "    if idx+1:\n",
    "        idx += 3\n",
    "        url = url[:idx]\n",
    "    idx = url.find('/melon/')\n",
    "    if idx+1:\n",
    "        url = url[:idx]\n",
    "    \n",
    "    album_df.loc[i, 'album_img_path'] = url\n",
    "    \n",
    "    album_id = album_df.loc[i, 'album_id']\n",
    "    \n",
    "    if not song_album_df[song_album_df.loc[:, 'album_id'] == album_id].album_id.any():\n",
    "        album_df.loc[i, 'album_title'] = np.nan\n",
    "    \n",
    "album_df = album_df.dropna(axis=0).reset_index(drop=True)\n",
    "album_df.index += 1\n",
    "album_df.to_csv('../song_data/album.csv', encoding='utf-8-sig')"
   ]
  },
  {
   "attachments": {},
   "cell_type": "markdown",
   "metadata": {},
   "source": [
    "#### Artist 수정"
   ]
  },
  {
   "cell_type": "code",
   "execution_count": 109,
   "metadata": {},
   "outputs": [
    {
     "data": {
      "application/vnd.jupyter.widget-view+json": {
       "model_id": "fa12710c30054b199f24b0c4c758ddae",
       "version_major": 2,
       "version_minor": 0
      },
      "text/plain": [
       "  0%|          | 0/2980 [00:00<?, ?it/s]"
      ]
     },
     "metadata": {},
     "output_type": "display_data"
    }
   ],
   "source": [
    "artist_df = artist_df.drop_duplicates('artist_id').reset_index(drop=True)\n",
    "for i in tqdm(range(len(artist_df))):\n",
    "    \n",
    "    url = artist_df.loc[i, 'artist_img_path']\n",
    "    \n",
    "    idx = url.find('jpg?')\n",
    "    if idx+1:\n",
    "        idx += 3\n",
    "        url = url[:idx]\n",
    "    idx = url.find('/melon/')\n",
    "    if idx+1:\n",
    "        url = url[:idx]\n",
    "    \n",
    "    artist_df.loc[i, 'artist_img_path'] = url\n",
    "    \n",
    "artist_df = artist_df.dropna(axis=0).reset_index(drop=True)\n",
    "\n",
    "artist_df.to_csv('../song_data/artist.csv', encoding='utf-8')"
   ]
  },
  {
   "cell_type": "code",
   "execution_count": 12,
   "metadata": {},
   "outputs": [],
   "source": [
    "group_artist_df = pd.read_excel('../song_data/song_xlsx/group_artist_df.xlsx', index_col=0)\n",
    "group_artist_df.index += 1\n",
    "group_artist_df.to_csv('../song_data/group_artist.csv', encoding='utf-8')"
   ]
  },
  {
   "cell_type": "code",
   "execution_count": 13,
   "metadata": {},
   "outputs": [],
   "source": [
    "artist_df = pd.read_excel('../song_data/song_xlsx/artist_df.xlsx', index_col=0)\n",
    "artist_df.index += 1\n",
    "artist_df.to_csv('../song_data/artist.csv', encoding='utf-8')"
   ]
  },
  {
   "attachments": {},
   "cell_type": "markdown",
   "metadata": {},
   "source": [
    "### 가사 분석용 데이터 셋 생성"
   ]
  },
  {
   "cell_type": "code",
   "execution_count": 2,
   "metadata": {},
   "outputs": [],
   "source": [
    "import pandas as pd\n",
    "from tqdm.notebook import tqdm"
   ]
  },
  {
   "cell_type": "code",
   "execution_count": 3,
   "metadata": {},
   "outputs": [],
   "source": [
    "df = pd.DataFrame(columns=['song_id', 'title', 'genre', 'lyrics'])\n",
    "\n",
    "lyrics_df = pd.read_csv('../song_data/lyrics.csv', index_col=0)\n",
    "song_df = pd.read_csv('../song_data/song.csv', index_col=0, encoding='cp949')\n",
    "song_genre_df = pd.read_csv('../song_data/song_genre.csv', index_col=0)\n",
    "genre_df = pd.read_csv('../song_data/genre.csv', index_col=0)\n"
   ]
  },
  {
   "cell_type": "code",
   "execution_count": 4,
   "metadata": {},
   "outputs": [
    {
     "data": {
      "application/vnd.jupyter.widget-view+json": {
       "model_id": "0b89e50bf93c4e29b476fdce20405f4c",
       "version_major": 2,
       "version_minor": 0
      },
      "text/plain": [
       "  0%|          | 0/9134 [00:00<?, ?it/s]"
      ]
     },
     "metadata": {},
     "output_type": "display_data"
    }
   ],
   "source": [
    "for i in tqdm(range(len(lyrics_df))):\n",
    "    song_id = lyrics_df.loc[i, 'song_id']\n",
    "    lyrics = lyrics_df.loc[i, 'lyrics']\n",
    "    title = song_df[song_df.loc[:, 'song_id'] == song_id].title.item()\n",
    "    song_genre = []\n",
    "    genre_list = [g for g in song_genre_df[song_genre_df.loc[:, 'song_id'] == song_id].genre_name]\n",
    "    for g in genre_list:\n",
    "        song_genre.append(genre_df[genre_df['genre_id'] == g].genre_name.item())\n",
    "    '&'.join(song_genre)\n",
    "    \n",
    "    df.loc[i, :] = [song_id, title, song_genre, lyrics]\n",
    "\n",
    "df.to_csv('../song_data/learn_song_lyrics.csv')"
   ]
  },
  {
   "cell_type": "code",
   "execution_count": null,
   "metadata": {},
   "outputs": [],
   "source": []
  }
 ],
 "metadata": {
  "kernelspec": {
   "display_name": "pjt",
   "language": "python",
   "name": "python3"
  },
  "language_info": {
   "codemirror_mode": {
    "name": "ipython",
    "version": 3
   },
   "file_extension": ".py",
   "mimetype": "text/x-python",
   "name": "python",
   "nbconvert_exporter": "python",
   "pygments_lexer": "ipython3",
   "version": "3.10.9"
  },
  "orig_nbformat": 4
 },
 "nbformat": 4,
 "nbformat_minor": 2
}

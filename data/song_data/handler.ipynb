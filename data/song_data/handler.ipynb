{
 "cells": [
  {
   "cell_type": "code",
   "execution_count": 1,
   "metadata": {},
   "outputs": [],
   "source": [
    "import pandas as pd\n",
    "import math\n",
    "\n",
    "song_df = pd.read_excel('./melon_song_data/song_df.xlsx', index_col=0)\n",
    "artist_df = pd.read_excel('./melon_song_data/artist_df.xlsx', index_col=0)\n",
    "album_df = pd.read_excel('./melon_song_data/album_df.xlsx', index_col=0)\n",
    "song_artist_df = pd.read_excel('./melon_song_data/song_artist_df.xlsx', index_col=0)\n",
    "song_album_df = pd.read_excel('./melon_song_data/song_album_df.xlsx', index_col=0)\n",
    "song_genre_df = pd.read_excel('./melon_song_data/song_genre_df.xlsx', index_col=0)\n",
    "lyrics_df = pd.read_excel('./melon_song_data/song_lyrics_df.xlsx', index_col=0)"
   ]
  },
  {
   "cell_type": "code",
   "execution_count": 6,
   "metadata": {},
   "outputs": [],
   "source": [
    "df = pd.read_excel('./melon_song_data/genre_df.xlsx', index_col=0)"
   ]
  },
  {
   "cell_type": "code",
   "execution_count": 19,
   "metadata": {},
   "outputs": [
    {
     "name": "stdout",
     "output_type": "stream",
     "text": [
      "[101, '발라드'],\n",
      "[102, '포크/블루스'],\n",
      "[103, '성인가요/트로트'],\n",
      "[104, '록/메탈'],\n",
      "[105, '국내영화'],\n",
      "[106, '댄스'],\n",
      "[107, '국내드라마'],\n",
      "[108, '뉴에이지'],\n",
      "[109, '클래식'],\n",
      "[110, '크로스오버'],\n",
      "[111, '교향/관현악'],\n",
      "[112, '랩/힙합'],\n",
      "[113, '-'],\n",
      "[114, '재즈'],\n",
      "[115, '보컬재즈'],\n",
      "[116, '인디음악'],\n",
      "[117, 'R&B/Soul'],\n",
      "[118, '애시드/퓨전/팝'],\n",
      "[119, '애니메이션/웹툰'],\n",
      "[120, 'POP'],\n",
      "[121, '일렉트로니카'],\n",
      "[122, 'J-POP'],\n",
      "[123, 'CCM'],\n",
      "[124, '국내CCM'],\n",
      "[125, '워십'],\n",
      "[126, '찬송가'],\n",
      "[127, '게임'],\n",
      "[128, '키즈'],\n",
      "[129, '만화'],\n",
      "[130, '국외영화'],\n",
      "[131, '국내뮤지컬'],\n"
     ]
    }
   ],
   "source": [
    "for k, v in zip(df['genre_id'], df['genre_name']):\n",
    "    print(f'{[k,v]},')"
   ]
  },
  {
   "cell_type": "code",
   "execution_count": 36,
   "metadata": {},
   "outputs": [],
   "source": [
    "genre_df = pd.DataFrame(columns=['genre_id', 'genre_name'])\n",
    "\n",
    "genre_list = [\n",
    "    [101, '발라드'],\n",
    "    [102, '포크/블루스'],\n",
    "    [103, '성인가요/트로트'],\n",
    "    [104, '록/메탈'],\n",
    "    [105, '국내영화'],\n",
    "    [106, '댄스'],\n",
    "    [107, '국내드라마'],\n",
    "    [108, '뉴에이지'],\n",
    "    [109, '클래식'],\n",
    "    [110, '크로스오버'],\n",
    "    [111, '교향/관현악'],\n",
    "    [112, '랩/힙합'],\n",
    "    [113, '-'],\n",
    "    [114, '재즈'],\n",
    "    [115, '보컬재즈'],\n",
    "    [116, '인디음악'],\n",
    "    [117, 'R&B/Soul'],\n",
    "    [118, '애시드/퓨전/팝'],\n",
    "    [119, '애니메이션/웹툰'],\n",
    "    [120, 'POP'],\n",
    "    [121, '일렉트로니카'],\n",
    "    [122, 'J-POP'],\n",
    "    [123, 'CCM'],\n",
    "    [124, '국내CCM'],\n",
    "    [125, '워십'],\n",
    "    [126, '찬송가'],\n",
    "    [127, '게임'],\n",
    "    [128, '키즈'],\n",
    "    [129, '만화'],\n",
    "    [130, '국외영화'],\n",
    "    [131, '국내뮤지컬']\n",
    "]\n",
    "\n",
    "for x,y in genre_list:\n",
    "    genre_df.loc[len(genre_df)] = [x, y]"
   ]
  },
  {
   "cell_type": "code",
   "execution_count": 40,
   "metadata": {},
   "outputs": [
    {
     "data": {
      "text/html": [
       "<div>\n",
       "<style scoped>\n",
       "    .dataframe tbody tr th:only-of-type {\n",
       "        vertical-align: middle;\n",
       "    }\n",
       "\n",
       "    .dataframe tbody tr th {\n",
       "        vertical-align: top;\n",
       "    }\n",
       "\n",
       "    .dataframe thead th {\n",
       "        text-align: right;\n",
       "    }\n",
       "</style>\n",
       "<table border=\"1\" class=\"dataframe\">\n",
       "  <thead>\n",
       "    <tr style=\"text-align: right;\">\n",
       "      <th></th>\n",
       "      <th>genre_id</th>\n",
       "      <th>genre_name</th>\n",
       "    </tr>\n",
       "  </thead>\n",
       "  <tbody>\n",
       "    <tr>\n",
       "      <th>0</th>\n",
       "      <td>101</td>\n",
       "      <td>발라드</td>\n",
       "    </tr>\n",
       "    <tr>\n",
       "      <th>1</th>\n",
       "      <td>102</td>\n",
       "      <td>포크/블루스</td>\n",
       "    </tr>\n",
       "    <tr>\n",
       "      <th>2</th>\n",
       "      <td>103</td>\n",
       "      <td>성인가요/트로트</td>\n",
       "    </tr>\n",
       "    <tr>\n",
       "      <th>3</th>\n",
       "      <td>104</td>\n",
       "      <td>록/메탈</td>\n",
       "    </tr>\n",
       "    <tr>\n",
       "      <th>4</th>\n",
       "      <td>105</td>\n",
       "      <td>국내영화</td>\n",
       "    </tr>\n",
       "    <tr>\n",
       "      <th>5</th>\n",
       "      <td>106</td>\n",
       "      <td>댄스</td>\n",
       "    </tr>\n",
       "    <tr>\n",
       "      <th>6</th>\n",
       "      <td>107</td>\n",
       "      <td>국내드라마</td>\n",
       "    </tr>\n",
       "    <tr>\n",
       "      <th>7</th>\n",
       "      <td>108</td>\n",
       "      <td>뉴에이지</td>\n",
       "    </tr>\n",
       "    <tr>\n",
       "      <th>8</th>\n",
       "      <td>109</td>\n",
       "      <td>클래식</td>\n",
       "    </tr>\n",
       "    <tr>\n",
       "      <th>9</th>\n",
       "      <td>110</td>\n",
       "      <td>크로스오버</td>\n",
       "    </tr>\n",
       "    <tr>\n",
       "      <th>10</th>\n",
       "      <td>111</td>\n",
       "      <td>교향/관현악</td>\n",
       "    </tr>\n",
       "    <tr>\n",
       "      <th>11</th>\n",
       "      <td>112</td>\n",
       "      <td>랩/힙합</td>\n",
       "    </tr>\n",
       "    <tr>\n",
       "      <th>12</th>\n",
       "      <td>113</td>\n",
       "      <td>-</td>\n",
       "    </tr>\n",
       "    <tr>\n",
       "      <th>13</th>\n",
       "      <td>114</td>\n",
       "      <td>재즈</td>\n",
       "    </tr>\n",
       "    <tr>\n",
       "      <th>14</th>\n",
       "      <td>115</td>\n",
       "      <td>보컬재즈</td>\n",
       "    </tr>\n",
       "    <tr>\n",
       "      <th>15</th>\n",
       "      <td>116</td>\n",
       "      <td>인디음악</td>\n",
       "    </tr>\n",
       "    <tr>\n",
       "      <th>16</th>\n",
       "      <td>117</td>\n",
       "      <td>R&amp;B/Soul</td>\n",
       "    </tr>\n",
       "    <tr>\n",
       "      <th>17</th>\n",
       "      <td>118</td>\n",
       "      <td>애시드/퓨전/팝</td>\n",
       "    </tr>\n",
       "    <tr>\n",
       "      <th>18</th>\n",
       "      <td>119</td>\n",
       "      <td>애니메이션/웹툰</td>\n",
       "    </tr>\n",
       "    <tr>\n",
       "      <th>19</th>\n",
       "      <td>120</td>\n",
       "      <td>POP</td>\n",
       "    </tr>\n",
       "    <tr>\n",
       "      <th>20</th>\n",
       "      <td>121</td>\n",
       "      <td>일렉트로니카</td>\n",
       "    </tr>\n",
       "    <tr>\n",
       "      <th>21</th>\n",
       "      <td>122</td>\n",
       "      <td>J-POP</td>\n",
       "    </tr>\n",
       "    <tr>\n",
       "      <th>22</th>\n",
       "      <td>123</td>\n",
       "      <td>CCM</td>\n",
       "    </tr>\n",
       "    <tr>\n",
       "      <th>23</th>\n",
       "      <td>124</td>\n",
       "      <td>국내CCM</td>\n",
       "    </tr>\n",
       "    <tr>\n",
       "      <th>24</th>\n",
       "      <td>125</td>\n",
       "      <td>워십</td>\n",
       "    </tr>\n",
       "    <tr>\n",
       "      <th>25</th>\n",
       "      <td>126</td>\n",
       "      <td>찬송가</td>\n",
       "    </tr>\n",
       "    <tr>\n",
       "      <th>26</th>\n",
       "      <td>127</td>\n",
       "      <td>게임</td>\n",
       "    </tr>\n",
       "    <tr>\n",
       "      <th>27</th>\n",
       "      <td>128</td>\n",
       "      <td>키즈</td>\n",
       "    </tr>\n",
       "    <tr>\n",
       "      <th>28</th>\n",
       "      <td>129</td>\n",
       "      <td>만화</td>\n",
       "    </tr>\n",
       "    <tr>\n",
       "      <th>29</th>\n",
       "      <td>130</td>\n",
       "      <td>국외영화</td>\n",
       "    </tr>\n",
       "    <tr>\n",
       "      <th>30</th>\n",
       "      <td>131</td>\n",
       "      <td>국내뮤지컬</td>\n",
       "    </tr>\n",
       "  </tbody>\n",
       "</table>\n",
       "</div>"
      ],
      "text/plain": [
       "    genre_id genre_name\n",
       "0        101        발라드\n",
       "1        102     포크/블루스\n",
       "2        103   성인가요/트로트\n",
       "3        104       록/메탈\n",
       "4        105       국내영화\n",
       "5        106         댄스\n",
       "6        107      국내드라마\n",
       "7        108       뉴에이지\n",
       "8        109        클래식\n",
       "9        110      크로스오버\n",
       "10       111     교향/관현악\n",
       "11       112       랩/힙합\n",
       "12       113          -\n",
       "13       114         재즈\n",
       "14       115       보컬재즈\n",
       "15       116       인디음악\n",
       "16       117   R&B/Soul\n",
       "17       118   애시드/퓨전/팝\n",
       "18       119   애니메이션/웹툰\n",
       "19       120        POP\n",
       "20       121     일렉트로니카\n",
       "21       122      J-POP\n",
       "22       123        CCM\n",
       "23       124      국내CCM\n",
       "24       125         워십\n",
       "25       126        찬송가\n",
       "26       127         게임\n",
       "27       128         키즈\n",
       "28       129         만화\n",
       "29       130       국외영화\n",
       "30       131      국내뮤지컬"
      ]
     },
     "execution_count": 40,
     "metadata": {},
     "output_type": "execute_result"
    }
   ],
   "source": [
    "def drop_dup(df, var):\n",
    "    df.drop_duplicates(str(var), inplace=True)\n",
    "    df.reset_index(drop=True, inplace=True)\n",
    "    df.to_excel(f'./{df}.xlsx')"
   ]
  },
  {
   "cell_type": "code",
   "execution_count": 52,
   "metadata": {},
   "outputs": [],
   "source": [
    "import pandas as pd\n",
    "import numpy as np\n",
    "\n",
    "song_df = pd.read_excel('song_df.xlsx', index_col=0)\n",
    "lyrics_df = pd.read_excel('lyrics_df.xlsx', index_col=0)"
   ]
  },
  {
   "cell_type": "code",
   "execution_count": 41,
   "metadata": {},
   "outputs": [
    {
     "data": {
      "text/plain": [
       "'미련없이 내뿜는 담배연기속에  \\\\n 아련히 떠오르는 그여인의 얼굴을 \\\\n 별마다 새겨보는 별마다 새겨보는  \\\\n 아~ 진고개 신사 \\\\n  \\\\n 헝클어진 머리를 쓸어 올리며 \\\\n 언젠가 불러주던 그여인의 노래를  \\\\n 소리없이 불러보던 소리없이 불러보던 \\\\n 아~ 진고개 신사 \\n</div>'"
      ]
     },
     "execution_count": 41,
     "metadata": {},
     "output_type": "execute_result"
    }
   ],
   "source": [
    "lyrics_df.loc[16].lyrics"
   ]
  },
  {
   "cell_type": "code",
   "execution_count": 53,
   "metadata": {},
   "outputs": [],
   "source": [
    "song_lyrics_df = pd.DataFrame(columns=['song_id','title','lyrics'])"
   ]
  },
  {
   "cell_type": "code",
   "execution_count": 54,
   "metadata": {},
   "outputs": [],
   "source": [
    "for i in range(len(song_df)):\n",
    "    song_id, title = song_df.loc[i, ['song_id','title']]\n",
    "    lyrics = lyrics_df[lyrics_df['song_id'] == song_id].lyrics.item()\n",
    "    title = title.replace(',', '&')\n",
    "    \n",
    "    lyrics = lyrics.replace(',','_').replace('\\n</div>', '').replace('</p>', '')\n",
    "    if lyrics == 'None' or lyrics[:3] == '19금':\n",
    "        lyrics = np.nan\n",
    "    \n",
    "    song_lyrics_df.loc[i, :] = [song_id, title, lyrics]"
   ]
  },
  {
   "cell_type": "code",
   "execution_count": 55,
   "metadata": {},
   "outputs": [],
   "source": [
    "song_lyrics_df.to_excel('./song_lyrics_df.xlsx')\n",
    "song_lyrics_df.to_csv('./song_lyrics_df.csv')"
   ]
  },
  {
   "cell_type": "code",
   "execution_count": 56,
   "metadata": {},
   "outputs": [
    {
     "ename": "ParserError",
     "evalue": "Error tokenizing data. C error: Expected 4 fields in line 4378, saw 6\n",
     "output_type": "error",
     "traceback": [
      "\u001b[1;31m---------------------------------------------------------------------------\u001b[0m",
      "\u001b[1;31mParserError\u001b[0m                               Traceback (most recent call last)",
      "Cell \u001b[1;32mIn[56], line 1\u001b[0m\n\u001b[1;32m----> 1\u001b[0m df \u001b[39m=\u001b[39m pd\u001b[39m.\u001b[39;49mread_csv(\u001b[39m'\u001b[39;49m\u001b[39m./song_lyrics_df.csv\u001b[39;49m\u001b[39m'\u001b[39;49m, index_col\u001b[39m=\u001b[39;49m\u001b[39m0\u001b[39;49m)\n\u001b[0;32m      2\u001b[0m df\n",
      "File \u001b[1;32mc:\\Users\\SSAFY\\miniconda3\\envs\\pjt\\lib\\site-packages\\pandas\\util\\_decorators.py:211\u001b[0m, in \u001b[0;36mdeprecate_kwarg.<locals>._deprecate_kwarg.<locals>.wrapper\u001b[1;34m(*args, **kwargs)\u001b[0m\n\u001b[0;32m    209\u001b[0m     \u001b[39melse\u001b[39;00m:\n\u001b[0;32m    210\u001b[0m         kwargs[new_arg_name] \u001b[39m=\u001b[39m new_arg_value\n\u001b[1;32m--> 211\u001b[0m \u001b[39mreturn\u001b[39;00m func(\u001b[39m*\u001b[39margs, \u001b[39m*\u001b[39m\u001b[39m*\u001b[39mkwargs)\n",
      "File \u001b[1;32mc:\\Users\\SSAFY\\miniconda3\\envs\\pjt\\lib\\site-packages\\pandas\\util\\_decorators.py:331\u001b[0m, in \u001b[0;36mdeprecate_nonkeyword_arguments.<locals>.decorate.<locals>.wrapper\u001b[1;34m(*args, **kwargs)\u001b[0m\n\u001b[0;32m    325\u001b[0m \u001b[39mif\u001b[39;00m \u001b[39mlen\u001b[39m(args) \u001b[39m>\u001b[39m num_allow_args:\n\u001b[0;32m    326\u001b[0m     warnings\u001b[39m.\u001b[39mwarn(\n\u001b[0;32m    327\u001b[0m         msg\u001b[39m.\u001b[39mformat(arguments\u001b[39m=\u001b[39m_format_argument_list(allow_args)),\n\u001b[0;32m    328\u001b[0m         \u001b[39mFutureWarning\u001b[39;00m,\n\u001b[0;32m    329\u001b[0m         stacklevel\u001b[39m=\u001b[39mfind_stack_level(),\n\u001b[0;32m    330\u001b[0m     )\n\u001b[1;32m--> 331\u001b[0m \u001b[39mreturn\u001b[39;00m func(\u001b[39m*\u001b[39margs, \u001b[39m*\u001b[39m\u001b[39m*\u001b[39mkwargs)\n",
      "File \u001b[1;32mc:\\Users\\SSAFY\\miniconda3\\envs\\pjt\\lib\\site-packages\\pandas\\io\\parsers\\readers.py:950\u001b[0m, in \u001b[0;36mread_csv\u001b[1;34m(filepath_or_buffer, sep, delimiter, header, names, index_col, usecols, squeeze, prefix, mangle_dupe_cols, dtype, engine, converters, true_values, false_values, skipinitialspace, skiprows, skipfooter, nrows, na_values, keep_default_na, na_filter, verbose, skip_blank_lines, parse_dates, infer_datetime_format, keep_date_col, date_parser, dayfirst, cache_dates, iterator, chunksize, compression, thousands, decimal, lineterminator, quotechar, quoting, doublequote, escapechar, comment, encoding, encoding_errors, dialect, error_bad_lines, warn_bad_lines, on_bad_lines, delim_whitespace, low_memory, memory_map, float_precision, storage_options)\u001b[0m\n\u001b[0;32m    935\u001b[0m kwds_defaults \u001b[39m=\u001b[39m _refine_defaults_read(\n\u001b[0;32m    936\u001b[0m     dialect,\n\u001b[0;32m    937\u001b[0m     delimiter,\n\u001b[1;32m   (...)\u001b[0m\n\u001b[0;32m    946\u001b[0m     defaults\u001b[39m=\u001b[39m{\u001b[39m\"\u001b[39m\u001b[39mdelimiter\u001b[39m\u001b[39m\"\u001b[39m: \u001b[39m\"\u001b[39m\u001b[39m,\u001b[39m\u001b[39m\"\u001b[39m},\n\u001b[0;32m    947\u001b[0m )\n\u001b[0;32m    948\u001b[0m kwds\u001b[39m.\u001b[39mupdate(kwds_defaults)\n\u001b[1;32m--> 950\u001b[0m \u001b[39mreturn\u001b[39;00m _read(filepath_or_buffer, kwds)\n",
      "File \u001b[1;32mc:\\Users\\SSAFY\\miniconda3\\envs\\pjt\\lib\\site-packages\\pandas\\io\\parsers\\readers.py:611\u001b[0m, in \u001b[0;36m_read\u001b[1;34m(filepath_or_buffer, kwds)\u001b[0m\n\u001b[0;32m    608\u001b[0m     \u001b[39mreturn\u001b[39;00m parser\n\u001b[0;32m    610\u001b[0m \u001b[39mwith\u001b[39;00m parser:\n\u001b[1;32m--> 611\u001b[0m     \u001b[39mreturn\u001b[39;00m parser\u001b[39m.\u001b[39;49mread(nrows)\n",
      "File \u001b[1;32mc:\\Users\\SSAFY\\miniconda3\\envs\\pjt\\lib\\site-packages\\pandas\\io\\parsers\\readers.py:1778\u001b[0m, in \u001b[0;36mTextFileReader.read\u001b[1;34m(self, nrows)\u001b[0m\n\u001b[0;32m   1771\u001b[0m nrows \u001b[39m=\u001b[39m validate_integer(\u001b[39m\"\u001b[39m\u001b[39mnrows\u001b[39m\u001b[39m\"\u001b[39m, nrows)\n\u001b[0;32m   1772\u001b[0m \u001b[39mtry\u001b[39;00m:\n\u001b[0;32m   1773\u001b[0m     \u001b[39m# error: \"ParserBase\" has no attribute \"read\"\u001b[39;00m\n\u001b[0;32m   1774\u001b[0m     (\n\u001b[0;32m   1775\u001b[0m         index,\n\u001b[0;32m   1776\u001b[0m         columns,\n\u001b[0;32m   1777\u001b[0m         col_dict,\n\u001b[1;32m-> 1778\u001b[0m     ) \u001b[39m=\u001b[39m \u001b[39mself\u001b[39;49m\u001b[39m.\u001b[39;49m_engine\u001b[39m.\u001b[39;49mread(  \u001b[39m# type: ignore[attr-defined]\u001b[39;49;00m\n\u001b[0;32m   1779\u001b[0m         nrows\n\u001b[0;32m   1780\u001b[0m     )\n\u001b[0;32m   1781\u001b[0m \u001b[39mexcept\u001b[39;00m \u001b[39mException\u001b[39;00m:\n\u001b[0;32m   1782\u001b[0m     \u001b[39mself\u001b[39m\u001b[39m.\u001b[39mclose()\n",
      "File \u001b[1;32mc:\\Users\\SSAFY\\miniconda3\\envs\\pjt\\lib\\site-packages\\pandas\\io\\parsers\\c_parser_wrapper.py:230\u001b[0m, in \u001b[0;36mCParserWrapper.read\u001b[1;34m(self, nrows)\u001b[0m\n\u001b[0;32m    228\u001b[0m \u001b[39mtry\u001b[39;00m:\n\u001b[0;32m    229\u001b[0m     \u001b[39mif\u001b[39;00m \u001b[39mself\u001b[39m\u001b[39m.\u001b[39mlow_memory:\n\u001b[1;32m--> 230\u001b[0m         chunks \u001b[39m=\u001b[39m \u001b[39mself\u001b[39;49m\u001b[39m.\u001b[39;49m_reader\u001b[39m.\u001b[39;49mread_low_memory(nrows)\n\u001b[0;32m    231\u001b[0m         \u001b[39m# destructive to chunks\u001b[39;00m\n\u001b[0;32m    232\u001b[0m         data \u001b[39m=\u001b[39m _concatenate_chunks(chunks)\n",
      "File \u001b[1;32mc:\\Users\\SSAFY\\miniconda3\\envs\\pjt\\lib\\site-packages\\pandas\\_libs\\parsers.pyx:808\u001b[0m, in \u001b[0;36mpandas._libs.parsers.TextReader.read_low_memory\u001b[1;34m()\u001b[0m\n",
      "File \u001b[1;32mc:\\Users\\SSAFY\\miniconda3\\envs\\pjt\\lib\\site-packages\\pandas\\_libs\\parsers.pyx:866\u001b[0m, in \u001b[0;36mpandas._libs.parsers.TextReader._read_rows\u001b[1;34m()\u001b[0m\n",
      "File \u001b[1;32mc:\\Users\\SSAFY\\miniconda3\\envs\\pjt\\lib\\site-packages\\pandas\\_libs\\parsers.pyx:852\u001b[0m, in \u001b[0;36mpandas._libs.parsers.TextReader._tokenize_rows\u001b[1;34m()\u001b[0m\n",
      "File \u001b[1;32mc:\\Users\\SSAFY\\miniconda3\\envs\\pjt\\lib\\site-packages\\pandas\\_libs\\parsers.pyx:1973\u001b[0m, in \u001b[0;36mpandas._libs.parsers.raise_parser_error\u001b[1;34m()\u001b[0m\n",
      "\u001b[1;31mParserError\u001b[0m: Error tokenizing data. C error: Expected 4 fields in line 4378, saw 6\n"
     ]
    }
   ],
   "source": [
    "df = pd.read_csv('./song_lyrics_df.csv', index_col=0)\n",
    "df"
   ]
  },
  {
   "cell_type": "code",
   "execution_count": 37,
   "metadata": {},
   "outputs": [
    {
     "data": {
      "text/plain": [
       "'미련없이 내뿜는 담배연기속에  \\\\n 아련히 떠오르는 그여인의 얼굴을 \\\\n 별마다 새겨보는 별마다 새겨보는  \\\\n 아~ 진고개 신사 \\\\n  \\\\n 헝클어진 머리를 쓸어 올리며 \\\\n 언젠가 불러주던 그여인의 노래를  \\\\n 소리없이 불러보던 소리없이 불러보던 \\\\n 아~ 진고개 신사 \\n'"
      ]
     },
     "execution_count": 37,
     "metadata": {},
     "output_type": "execute_result"
    }
   ],
   "source": []
  }
 ],
 "metadata": {
  "kernelspec": {
   "display_name": "pjt",
   "language": "python",
   "name": "python3"
  },
  "language_info": {
   "codemirror_mode": {
    "name": "ipython",
    "version": 3
   },
   "file_extension": ".py",
   "mimetype": "text/x-python",
   "name": "python",
   "nbconvert_exporter": "python",
   "pygments_lexer": "ipython3",
   "version": "3.10.10"
  },
  "orig_nbformat": 4,
  "vscode": {
   "interpreter": {
    "hash": "cff20c94d67854565eb48dfb6701358b169169fb43b6e021a1c92e5e4a9a527e"
   }
  }
 },
 "nbformat": 4,
 "nbformat_minor": 2
}

{
 "cells": [
  {
   "cell_type": "code",
   "execution_count": 1,
   "metadata": {},
   "outputs": [],
   "source": [
    "import pandas as pd\n",
    "from urllib.parse import quote\n",
    "from sqlalchemy import create_engine\n",
    "import pymysql\n",
    "\n",
    "from sqlalchemy import Table, MetaData\n",
    "from sqlalchemy import insert, delete"
   ]
  },
  {
   "cell_type": "code",
   "execution_count": 2,
   "metadata": {},
   "outputs": [],
   "source": [
    "user = 'root'\n",
    "password = 'inmo1245!@'\n",
    "host = 'localhost'\n",
    "port = '3306'\n",
    "database = 'flask_test'"
   ]
  },
  {
   "cell_type": "code",
   "execution_count": 10,
   "metadata": {},
   "outputs": [
    {
     "name": "stdout",
     "output_type": "stream",
     "text": [
      "2023-03-29 10:37:14,331 INFO sqlalchemy.engine.Engine SELECT DATABASE()\n",
      "2023-03-29 10:37:14,331 INFO sqlalchemy.engine.Engine [raw sql] {}\n",
      "2023-03-29 10:37:14,333 INFO sqlalchemy.engine.Engine SELECT @@sql_mode\n",
      "2023-03-29 10:37:14,333 INFO sqlalchemy.engine.Engine [raw sql] {}\n",
      "2023-03-29 10:37:14,334 INFO sqlalchemy.engine.Engine SELECT @@lower_case_table_names\n",
      "2023-03-29 10:37:14,335 INFO sqlalchemy.engine.Engine [raw sql] {}\n"
     ]
    }
   ],
   "source": [
    "engine = create_engine(f'mysql+pymysql://{user}:{quote(password)}@{host}:{port}/{database}', echo=True)\n",
    "\n",
    "# meta = MetaData()\n",
    "conn = engine.connect()"
   ]
  },
  {
   "cell_type": "code",
   "execution_count": 25,
   "metadata": {},
   "outputs": [],
   "source": [
    "df = pd.read_csv('song/song_data/song.csv', encoding='cp949', index_col=0)"
   ]
  },
  {
   "cell_type": "code",
   "execution_count": 23,
   "metadata": {},
   "outputs": [
    {
     "data": {
      "text/html": [
       "<div>\n",
       "<style scoped>\n",
       "    .dataframe tbody tr th:only-of-type {\n",
       "        vertical-align: middle;\n",
       "    }\n",
       "\n",
       "    .dataframe tbody tr th {\n",
       "        vertical-align: top;\n",
       "    }\n",
       "\n",
       "    .dataframe thead th {\n",
       "        text-align: right;\n",
       "    }\n",
       "</style>\n",
       "<table border=\"1\" class=\"dataframe\">\n",
       "  <thead>\n",
       "    <tr style=\"text-align: right;\">\n",
       "      <th></th>\n",
       "      <th>song_id</th>\n",
       "      <th>title</th>\n",
       "    </tr>\n",
       "  </thead>\n",
       "  <tbody>\n",
       "    <tr>\n",
       "      <th>1</th>\n",
       "      <td>52441</td>\n",
       "      <td>너에게로 또 다시</td>\n",
       "    </tr>\n",
       "    <tr>\n",
       "      <th>2</th>\n",
       "      <td>53060</td>\n",
       "      <td>솔아 솔아 푸르른 솔아</td>\n",
       "    </tr>\n",
       "    <tr>\n",
       "      <th>3</th>\n",
       "      <td>1017150</td>\n",
       "      <td>그 아픔까지 사랑한거야</td>\n",
       "    </tr>\n",
       "    <tr>\n",
       "      <th>4</th>\n",
       "      <td>53018</td>\n",
       "      <td>향기로운 추억 (응답하라 1988 삽입곡)</td>\n",
       "    </tr>\n",
       "    <tr>\n",
       "      <th>5</th>\n",
       "      <td>1859404</td>\n",
       "      <td>잊지 말아요</td>\n",
       "    </tr>\n",
       "  </tbody>\n",
       "</table>\n",
       "</div>"
      ],
      "text/plain": [
       "   song_id                    title\n",
       "1    52441                너에게로 또 다시\n",
       "2    53060             솔아 솔아 푸르른 솔아\n",
       "3  1017150             그 아픔까지 사랑한거야\n",
       "4    53018  향기로운 추억 (응답하라 1988 삽입곡)\n",
       "5  1859404                   잊지 말아요"
      ]
     },
     "execution_count": 23,
     "metadata": {},
     "output_type": "execute_result"
    }
   ],
   "source": [
    "df = df.head(1000)"
   ]
  },
  {
   "cell_type": "code",
   "execution_count": 24,
   "metadata": {},
   "outputs": [
    {
     "name": "stdout",
     "output_type": "stream",
     "text": [
      "2023-03-29 10:41:15,534 INFO sqlalchemy.engine.Engine BEGIN (implicit)\n",
      "2023-03-29 10:41:15,535 INFO sqlalchemy.engine.Engine DESCRIBE `flask_test`.`song`\n",
      "2023-03-29 10:41:15,536 INFO sqlalchemy.engine.Engine [raw sql] {}\n",
      "2023-03-29 10:41:15,538 INFO sqlalchemy.engine.Engine ROLLBACK\n",
      "2023-03-29 10:41:15,540 INFO sqlalchemy.engine.Engine BEGIN (implicit)\n",
      "2023-03-29 10:41:15,541 INFO sqlalchemy.engine.Engine INSERT INTO song (id, song_id, title) VALUES (%(id_m0)s, %(song_id_m0)s, %(title_m0)s), (%(id_m1)s, %(song_id_m1)s, %(title_m1)s), (%(id_m2)s, %(song_id_m2)s, %(title_m2)s), (%(id_m3)s, %(song_id_m3)s, %(title_m3)s), (%(id_m4)s, %(song_id_m4)s, %(title_m4)s)\n",
      "2023-03-29 10:41:15,542 INFO sqlalchemy.engine.Engine [no key 0.00074s] {'id_m0': 1, 'song_id_m0': 52441, 'title_m0': '너에게로 또 다시', 'id_m1': 2, 'song_id_m1': 53060, 'title_m1': '솔아 솔아 푸르른 솔아', 'id_m2': 3, 'song_id_m2': 1017150, 'title_m2': '그 아픔까지 사랑한거야', 'id_m3': 4, 'song_id_m3': 53018, 'title_m3': '향기로운 추억 (응답하라 1988 삽입곡)', 'id_m4': 5, 'song_id_m4': 1859404, 'title_m4': '잊지 말아요'}\n",
      "2023-03-29 10:41:15,545 INFO sqlalchemy.engine.Engine COMMIT\n"
     ]
    },
    {
     "data": {
      "text/plain": [
       "5"
      ]
     },
     "execution_count": 24,
     "metadata": {},
     "output_type": "execute_result"
    }
   ],
   "source": [
    "df.to_sql(index='id',\n",
    "          name= 'song',\n",
    "          con = engine,\n",
    "          if_exists='append',\n",
    "          method='multi',\n",
    "          chunksize=10000)"
   ]
  }
 ],
 "metadata": {
  "kernelspec": {
   "display_name": "pjt",
   "language": "python",
   "name": "python3"
  },
  "language_info": {
   "codemirror_mode": {
    "name": "ipython",
    "version": 3
   },
   "file_extension": ".py",
   "mimetype": "text/x-python",
   "name": "python",
   "nbconvert_exporter": "python",
   "pygments_lexer": "ipython3",
   "version": "3.10.10"
  },
  "orig_nbformat": 4
 },
 "nbformat": 4,
 "nbformat_minor": 2
}
